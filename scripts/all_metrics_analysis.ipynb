{
 "cells": [
  {
   "cell_type": "markdown",
   "metadata": {},
   "source": [
    "# Flexibility Analysis"
   ]
  },
  {
   "cell_type": "markdown",
   "metadata": {},
   "source": [
    "## Algorithm to Automate Flexibility Scoring"
   ]
  },
  {
   "cell_type": "markdown",
   "metadata": {},
   "source": [
    "### Import Packages"
   ]
  },
  {
   "cell_type": "code",
   "execution_count": 1,
   "metadata": {},
   "outputs": [],
   "source": [
    "import nltk\n",
    "import pandas as pd\n",
    "import numpy as np\n",
    "\n",
    "import os\n",
    "from os.path import expanduser\n",
    "import glob\n",
    "\n",
    "from scipy import stats\n",
    "from scipy.stats import pearsonr\n",
    "\n",
    "import shared_functions as sf\n",
    "from shared_functions import *"
   ]
  },
  {
   "cell_type": "code",
   "execution_count": null,
   "metadata": {},
   "outputs": [],
   "source": []
  },
  {
   "cell_type": "markdown",
   "metadata": {},
   "source": [
    "## Read in Data to Analyze"
   ]
  },
  {
   "cell_type": "code",
   "execution_count": 2,
   "metadata": {},
   "outputs": [],
   "source": [
    "cwd = os.getcwd()"
   ]
  },
  {
   "cell_type": "code",
   "execution_count": 3,
   "metadata": {},
   "outputs": [],
   "source": [
    "# read in the official novelty results\n",
    "novelty_dict = {}\n",
    "for filename in glob.glob(cwd + '/..//results/results_methods/novelty_results/novelty_071321/*.csv'):\n",
    "    novelty_dict[filename[122:-4]] = pd.read_csv(filename)"
   ]
  },
  {
   "cell_type": "code",
   "execution_count": 4,
   "metadata": {},
   "outputs": [],
   "source": [
    "# read in the official flexibility results\n",
    "flexibility_dict = {}\n",
    "for filename in glob.glob(cwd + '/..//results/results_methods/flexibility_results/flexibility_071521/*.csv'):\n",
    "    flexibility_dict[filename[157:-4]] = pd.read_csv(filename)"
   ]
  },
  {
   "cell_type": "code",
   "execution_count": 5,
   "metadata": {},
   "outputs": [],
   "source": [
    "# read in the official originality results\n",
    "originality_dict = {}\n",
    "for filename in glob.glob(cwd + '/..//results/results_methods/originality_results/originality_071521/freqs/*.csv'):\n",
    "    originality_dict[filename[169:-4]] = pd.read_csv(filename)"
   ]
  },
  {
   "cell_type": "code",
   "execution_count": 6,
   "metadata": {},
   "outputs": [],
   "source": [
    "# read in the official fluency results\n",
    "fluency_dict = {}\n",
    "for filename in glob.glob(cwd + '/..//results/results_methods/fluency_results/fluency_071521/*.csv'):\n",
    "    fluency_dict[filename[145:-4]] = pd.read_csv(filename)"
   ]
  },
  {
   "cell_type": "code",
   "execution_count": null,
   "metadata": {},
   "outputs": [],
   "source": []
  },
  {
   "cell_type": "markdown",
   "metadata": {},
   "source": [
    "## Comparing Flexibility Results with Human Ratings"
   ]
  },
  {
   "cell_type": "code",
   "execution_count": 7,
   "metadata": {},
   "outputs": [],
   "source": [
    "# create pvalues matrix\n",
    "def calculate_pvalues(df):\n",
    "    df = df.dropna()._get_numeric_data()\n",
    "    dfcols = pd.DataFrame(columns=df.columns)\n",
    "    pvalues = dfcols.transpose().join(dfcols, how='outer')\n",
    "    for r in df.columns:\n",
    "        for c in df.columns:\n",
    "            pvalues[r][c] = round(pearsonr(df[r], df[c])[1], 4)\n",
    "    return pvalues"
   ]
  },
  {
   "cell_type": "markdown",
   "metadata": {},
   "source": [
    "### Correlations for Each Prompt\n",
    "#### Between Human Rater and Method"
   ]
  },
  {
   "cell_type": "code",
   "execution_count": 8,
   "metadata": {},
   "outputs": [],
   "source": [
    "# calculate corrrelation once\n",
    "def flexibility_corr(flexibility_dict):\n",
    "    # list to store list of tuples, later turn into df\n",
    "    corrs_tuple_list = []\n",
    "    # get list of keys to iterate through\n",
    "    flexibility_keys = list(flexibility_dict.keys())\n",
    "    # calculate the corr coefficient and pval\n",
    "    for data in flexibility_keys:\n",
    "        corrs_tuple_list.append(stats.pearsonr(flexibility_dict[data]['flex_1'], flexibility_dict[data]['flex_method_avg']))\n",
    "        \n",
    "    # turn list of tuples into df\n",
    "    result_df = pd.DataFrame(corrs_tuple_list, columns=['corrs', 'pval'])\n",
    "    \n",
    "    # rename index with corresponding prompt\n",
    "    result_df.index = flexibility_keys\n",
    "    \n",
    "    # return df\n",
    "    return result_df"
   ]
  },
  {
   "cell_type": "code",
   "execution_count": 9,
   "metadata": {},
   "outputs": [
    {
     "data": {
      "text/html": [
       "<div>\n",
       "<style scoped>\n",
       "    .dataframe tbody tr th:only-of-type {\n",
       "        vertical-align: middle;\n",
       "    }\n",
       "\n",
       "    .dataframe tbody tr th {\n",
       "        vertical-align: top;\n",
       "    }\n",
       "\n",
       "    .dataframe thead th {\n",
       "        text-align: right;\n",
       "    }\n",
       "</style>\n",
       "<table border=\"1\" class=\"dataframe\">\n",
       "  <thead>\n",
       "    <tr style=\"text-align: right;\">\n",
       "      <th></th>\n",
       "      <th>corrs</th>\n",
       "      <th>pval</th>\n",
       "    </tr>\n",
       "  </thead>\n",
       "  <tbody>\n",
       "    <tr>\n",
       "      <th>box</th>\n",
       "      <td>0.477839</td>\n",
       "      <td>0.000002</td>\n",
       "    </tr>\n",
       "    <tr>\n",
       "      <th>brick</th>\n",
       "      <td>0.225879</td>\n",
       "      <td>0.033304</td>\n",
       "    </tr>\n",
       "    <tr>\n",
       "      <th>chair</th>\n",
       "      <td>0.302757</td>\n",
       "      <td>0.003726</td>\n",
       "    </tr>\n",
       "    <tr>\n",
       "      <th>cup</th>\n",
       "      <td>0.344469</td>\n",
       "      <td>0.000948</td>\n",
       "    </tr>\n",
       "    <tr>\n",
       "      <th>key</th>\n",
       "      <td>0.379652</td>\n",
       "      <td>0.000224</td>\n",
       "    </tr>\n",
       "    <tr>\n",
       "      <th>pencil</th>\n",
       "      <td>0.446145</td>\n",
       "      <td>0.000010</td>\n",
       "    </tr>\n",
       "    <tr>\n",
       "      <th>rope</th>\n",
       "      <td>0.162325</td>\n",
       "      <td>0.126369</td>\n",
       "    </tr>\n",
       "    <tr>\n",
       "      <th>shoe</th>\n",
       "      <td>0.465522</td>\n",
       "      <td>0.000004</td>\n",
       "    </tr>\n",
       "  </tbody>\n",
       "</table>\n",
       "</div>"
      ],
      "text/plain": [
       "           corrs      pval\n",
       "box     0.477839  0.000002\n",
       "brick   0.225879  0.033304\n",
       "chair   0.302757  0.003726\n",
       "cup     0.344469  0.000948\n",
       "key     0.379652  0.000224\n",
       "pencil  0.446145  0.000010\n",
       "rope    0.162325  0.126369\n",
       "shoe    0.465522  0.000004"
      ]
     },
     "execution_count": 9,
     "metadata": {},
     "output_type": "execute_result"
    }
   ],
   "source": [
    "flexibility_corr(flexibility_dict)"
   ]
  },
  {
   "cell_type": "code",
   "execution_count": null,
   "metadata": {},
   "outputs": [],
   "source": []
  },
  {
   "cell_type": "markdown",
   "metadata": {},
   "source": [
    "## Comparing Flexibility Results with Novelty Results"
   ]
  },
  {
   "cell_type": "code",
   "execution_count": 10,
   "metadata": {},
   "outputs": [
    {
     "data": {
      "text/plain": [
       "Index(['id', 'response', 'response_nofill', 'response_processed',\n",
       "       'response_processed_phrase', 'item', 'item_nofill', 'SemDis_factor',\n",
       "       'SemDis_cbowukwacsubtitle_nf_m', 'SemDis_cbowsubtitle_nf_m',\n",
       "       'SemDis_cbowBNCwikiukwac_nf_m', 'SemDis_TASA_nf_m', 'SemDis_glove_nf_m',\n",
       "       'SemDis_MEAN', 'ewm_vector_cosine_dis',\n",
       "       'ewm_vector_cosine_dis_clus_avg', 'minima_vector_cosine_dis',\n",
       "       'minima_vector_cosine_dis_clus_avg',\n",
       "       'minima_vector_cosine_dis_clus_min', 'novelty_1', 'novelty_2',\n",
       "       'novelty_m'],\n",
       "      dtype='object')"
      ]
     },
     "execution_count": 10,
     "metadata": {},
     "output_type": "execute_result"
    }
   ],
   "source": [
    "novelty_dict['box_TASA_results'].columns"
   ]
  },
  {
   "cell_type": "code",
   "execution_count": 11,
   "metadata": {},
   "outputs": [],
   "source": [
    "def get_novelty_avg_semdis(collapse_df):\n",
    "    # get id list\n",
    "    id_list = sf.get_id_list(collapse_df)\n",
    "    participant_values = []\n",
    "    \n",
    "    for participant in id_list:\n",
    "        values_list = []\n",
    "        values_list.append(participant)\n",
    "        temp_df = collapse_df.loc[collapse_df['id'] == participant]\n",
    "        values_list.append(temp_df[\"ewm_vector_cosine_dis\"].mean())\n",
    "        values_list.append(temp_df[\"ewm_vector_cosine_dis_clus_avg\"].mean())\n",
    "        values_list.append(temp_df[\"minima_vector_cosine_dis\"].mean())\n",
    "        values_list.append(temp_df[\"minima_vector_cosine_dis_clus_avg\"].mean())\n",
    "        values_list.append(temp_df[\"minima_vector_cosine_dis_clus_min\"].mean())\n",
    "        values_list.append(temp_df[\"SemDis_cbowukwacsubtitle_nf_m\"].mean())\n",
    "        values_list.append(temp_df[\"SemDis_cbowsubtitle_nf_m\"].mean())\n",
    "        values_list.append(temp_df[\"SemDis_cbowBNCwikiukwac_nf_m\"].mean())\n",
    "        values_list.append(temp_df[\"SemDis_TASA_nf_m\"].mean())\n",
    "        values_list.append(temp_df[\"SemDis_glove_nf_m\"].mean())\n",
    "        values_list.append(temp_df[\"SemDis_MEAN\"].mean())\n",
    "        values_list.append(temp_df[\"novelty_1\"].mean())\n",
    "        values_list.append(temp_df[\"novelty_2\"].mean())\n",
    "        values_list.append(temp_df[\"novelty_m\"].mean())\n",
    "\n",
    "        values_tuple = tuple(values_list)\n",
    "        participant_values.append(values_tuple)\n",
    "        \n",
    "    participant_avg_novelty_df = pd.DataFrame(participant_values, columns=['id', 'ewm', 'ewm_clust', 'minvec', 'minvec_clust', \"minvec_min\",\n",
    "                                                                          'cbowukwacsubtitle', 'cbowsubtitle', 'cbowBNCwikiukwac', 'TASA', 'glove'\n",
    "                                                                           , \"SemDis_MEAN\", 'novelty_1', 'novelty_2', 'novelty_m'])\n",
    "    return participant_avg_novelty_df"
   ]
  },
  {
   "cell_type": "code",
   "execution_count": 12,
   "metadata": {},
   "outputs": [],
   "source": [
    "def get_novelty_avg(collapse_df):\n",
    "    # get id list\n",
    "    id_list = sf.get_id_list(collapse_df)\n",
    "    participant_values = []\n",
    "    \n",
    "    for participant in id_list:\n",
    "        values_list = []\n",
    "        values_list.append(participant)\n",
    "        temp_df = collapse_df.loc[collapse_df['id'] == participant]\n",
    "        values_list.append(temp_df[\"ewm_vector_cosine_dis\"].mean())\n",
    "        values_list.append(temp_df[\"ewm_vector_cosine_dis_clus_avg\"].mean())\n",
    "        values_list.append(temp_df[\"minima_vector_cosine_dis\"].mean())\n",
    "        values_list.append(temp_df[\"minima_vector_cosine_dis_clus_avg\"].mean())\n",
    "        values_list.append(temp_df[\"minima_vector_cosine_dis_clus_min\"].mean())\n",
    "        values_tuple = tuple(values_list)\n",
    "        participant_values.append(values_tuple)\n",
    "        \n",
    "    participant_avg_novelty_df = pd.DataFrame(participant_values, columns=['id', 'ewm', 'ewm_clust', 'minvec', 'minvec_clust', \"minvec_min\"])\n",
    "    \n",
    "    return participant_avg_novelty_df"
   ]
  },
  {
   "cell_type": "code",
   "execution_count": 13,
   "metadata": {},
   "outputs": [],
   "source": [
    "def get_flexibility_avg(collapse_df):\n",
    "    # get id list\n",
    "    id_list = sf.get_id_list(collapse_df)\n",
    "    participant_values = []\n",
    "    \n",
    "    for participant in id_list:\n",
    "        values_list = []\n",
    "        values_list.append(participant)\n",
    "        temp_df = collapse_df.loc[collapse_df['id'] == participant]\n",
    "        values_list.append(temp_df[\"flex_1\"].mean())\n",
    "        values_list.append(temp_df[\"flex_2\"].mean())\n",
    "        values_list.append(temp_df[\"flex_method_avg\"].mean())\n",
    "        values_tuple = tuple(values_list)\n",
    "        participant_values.append(values_tuple)\n",
    "        \n",
    "    participant_avg_flexibility_df = pd.DataFrame(participant_values, columns=['id', 'flex_1', 'flex_2', 'flex_method_avg'])\n",
    "    \n",
    "    return participant_avg_flexibility_df"
   ]
  },
  {
   "cell_type": "code",
   "execution_count": 27,
   "metadata": {},
   "outputs": [],
   "source": [
    "def get_originality_avg(collapse_df):\n",
    "    # get id list\n",
    "    id_list = sf.get_id_list(collapse_df)\n",
    "    participant_values = []\n",
    "    \n",
    "    for participant in id_list:\n",
    "        values_list = []\n",
    "        values_list.append(participant)\n",
    "        temp_df = collapse_df.loc[collapse_df['id'] == participant]\n",
    "        values_list.append(temp_df[\"t_freq\"].mean())\n",
    "        values_tuple = tuple(values_list)\n",
    "        participant_values.append(values_tuple)\n",
    "        \n",
    "    participant_avg_originality_df = pd.DataFrame(participant_values, columns=['id', 'originality'])\n",
    "    \n",
    "    return participant_avg_originality_df"
   ]
  },
  {
   "cell_type": "code",
   "execution_count": 15,
   "metadata": {},
   "outputs": [],
   "source": [
    "def get_fluency_avg(collapse_df):\n",
    "    # get id list\n",
    "    id_list = sf.get_id_list(collapse_df)\n",
    "    participant_values = []\n",
    "    \n",
    "    for participant in id_list:\n",
    "        values_list = []\n",
    "        values_list.append(participant)\n",
    "        temp_df = collapse_df.loc[collapse_df['id'] == participant]\n",
    "        values_list.append(temp_df[\"fluency\"].mean())\n",
    "        values_tuple = tuple(values_list)\n",
    "        participant_values.append(values_tuple)\n",
    "        \n",
    "    participant_avg_fluency_df = pd.DataFrame(participant_values, columns=['id', 'fluency'])\n",
    "    \n",
    "    return participant_avg_fluency_df"
   ]
  },
  {
   "cell_type": "code",
   "execution_count": 18,
   "metadata": {},
   "outputs": [],
   "source": [
    "def calculate_corrs_novelty_flexibility(novelty_dict_values, flexibility_dict_values):\n",
    "    collapse_novelty_df = pd.concat(novelty_dict_values)\n",
    "    collapse_flexibility_df = pd.concat(flexibility_dict_values)\n",
    "    participant_avg_novelty_df = get_novelty_avg(collapse_novelty_df)\n",
    "    participant_avg_flexibility_df = get_flexibility_avg(collapse_flexibility_df)\n",
    "    combined_df = pd.merge(participant_avg_novelty_df, participant_avg_flexibility_df, how='inner', on = 'id')\n",
    "    combined_df = combined_df.drop('id', axis=1)\n",
    "    pval_df = calculate_pvalues(combined_df)\n",
    "    corrs_df = combined_df.corr()\n",
    "    corrs_df = pd.DataFrame(corrs_df.iloc[:5, 5:])\n",
    "    pval_df = pd.DataFrame(pval_df.iloc[:5, 5:])\n",
    "    pval_df.columns = ['flex_1_pval', 'flex_2_pval', 'flex_method_pval']\n",
    "    display(corrs_df)\n",
    "    display(pval_df)\n",
    "    corr_pval_df = pd.concat([corrs_df, pval_df], axis=1)\n",
    "    corr_pval_df = corr_pval_df[['flex_1', 'flex_1_pval','flex_2', 'flex_2_pval', 'flex_method_avg', 'flex_method_pval']]\n",
    "    corr_pval_df.index.rename('metrics', inplace=True)\n",
    "    display(corr_pval_df)"
   ]
  },
  {
   "cell_type": "code",
   "execution_count": 19,
   "metadata": {},
   "outputs": [
    {
     "data": {
      "text/html": [
       "<div>\n",
       "<style scoped>\n",
       "    .dataframe tbody tr th:only-of-type {\n",
       "        vertical-align: middle;\n",
       "    }\n",
       "\n",
       "    .dataframe tbody tr th {\n",
       "        vertical-align: top;\n",
       "    }\n",
       "\n",
       "    .dataframe thead th {\n",
       "        text-align: right;\n",
       "    }\n",
       "</style>\n",
       "<table border=\"1\" class=\"dataframe\">\n",
       "  <thead>\n",
       "    <tr style=\"text-align: right;\">\n",
       "      <th></th>\n",
       "      <th>flex_1</th>\n",
       "      <th>flex_2</th>\n",
       "      <th>flex_method_avg</th>\n",
       "    </tr>\n",
       "  </thead>\n",
       "  <tbody>\n",
       "    <tr>\n",
       "      <th>ewm</th>\n",
       "      <td>0.079815</td>\n",
       "      <td>0.079815</td>\n",
       "      <td>0.190157</td>\n",
       "    </tr>\n",
       "    <tr>\n",
       "      <th>ewm_clust</th>\n",
       "      <td>0.127786</td>\n",
       "      <td>0.127786</td>\n",
       "      <td>0.147896</td>\n",
       "    </tr>\n",
       "    <tr>\n",
       "      <th>minvec</th>\n",
       "      <td>0.289169</td>\n",
       "      <td>0.289169</td>\n",
       "      <td>0.263412</td>\n",
       "    </tr>\n",
       "    <tr>\n",
       "      <th>minvec_clust</th>\n",
       "      <td>0.371233</td>\n",
       "      <td>0.371233</td>\n",
       "      <td>0.291475</td>\n",
       "    </tr>\n",
       "    <tr>\n",
       "      <th>minvec_min</th>\n",
       "      <td>-0.432635</td>\n",
       "      <td>-0.432635</td>\n",
       "      <td>0.011132</td>\n",
       "    </tr>\n",
       "  </tbody>\n",
       "</table>\n",
       "</div>"
      ],
      "text/plain": [
       "                flex_1    flex_2  flex_method_avg\n",
       "ewm           0.079815  0.079815         0.190157\n",
       "ewm_clust     0.127786  0.127786         0.147896\n",
       "minvec        0.289169  0.289169         0.263412\n",
       "minvec_clust  0.371233  0.371233         0.291475\n",
       "minvec_min   -0.432635 -0.432635         0.011132"
      ]
     },
     "metadata": {},
     "output_type": "display_data"
    },
    {
     "data": {
      "text/html": [
       "<div>\n",
       "<style scoped>\n",
       "    .dataframe tbody tr th:only-of-type {\n",
       "        vertical-align: middle;\n",
       "    }\n",
       "\n",
       "    .dataframe tbody tr th {\n",
       "        vertical-align: top;\n",
       "    }\n",
       "\n",
       "    .dataframe thead th {\n",
       "        text-align: right;\n",
       "    }\n",
       "</style>\n",
       "<table border=\"1\" class=\"dataframe\">\n",
       "  <thead>\n",
       "    <tr style=\"text-align: right;\">\n",
       "      <th></th>\n",
       "      <th>flex_1_pval</th>\n",
       "      <th>flex_2_pval</th>\n",
       "      <th>flex_method_pval</th>\n",
       "    </tr>\n",
       "  </thead>\n",
       "  <tbody>\n",
       "    <tr>\n",
       "      <th>ewm</th>\n",
       "      <td>0.4546</td>\n",
       "      <td>0.4546</td>\n",
       "      <td>0.0726</td>\n",
       "    </tr>\n",
       "    <tr>\n",
       "      <th>ewm_clust</th>\n",
       "      <td>0.23</td>\n",
       "      <td>0.23</td>\n",
       "      <td>0.1642</td>\n",
       "    </tr>\n",
       "    <tr>\n",
       "      <th>minvec</th>\n",
       "      <td>0.0057</td>\n",
       "      <td>0.0057</td>\n",
       "      <td>0.0121</td>\n",
       "    </tr>\n",
       "    <tr>\n",
       "      <th>minvec_clust</th>\n",
       "      <td>0.0003</td>\n",
       "      <td>0.0003</td>\n",
       "      <td>0.0053</td>\n",
       "    </tr>\n",
       "    <tr>\n",
       "      <th>minvec_min</th>\n",
       "      <td>0.0</td>\n",
       "      <td>0.0</td>\n",
       "      <td>0.9171</td>\n",
       "    </tr>\n",
       "  </tbody>\n",
       "</table>\n",
       "</div>"
      ],
      "text/plain": [
       "             flex_1_pval flex_2_pval flex_method_pval\n",
       "ewm               0.4546      0.4546           0.0726\n",
       "ewm_clust           0.23        0.23           0.1642\n",
       "minvec            0.0057      0.0057           0.0121\n",
       "minvec_clust      0.0003      0.0003           0.0053\n",
       "minvec_min           0.0         0.0           0.9171"
      ]
     },
     "metadata": {},
     "output_type": "display_data"
    },
    {
     "data": {
      "text/html": [
       "<div>\n",
       "<style scoped>\n",
       "    .dataframe tbody tr th:only-of-type {\n",
       "        vertical-align: middle;\n",
       "    }\n",
       "\n",
       "    .dataframe tbody tr th {\n",
       "        vertical-align: top;\n",
       "    }\n",
       "\n",
       "    .dataframe thead th {\n",
       "        text-align: right;\n",
       "    }\n",
       "</style>\n",
       "<table border=\"1\" class=\"dataframe\">\n",
       "  <thead>\n",
       "    <tr style=\"text-align: right;\">\n",
       "      <th></th>\n",
       "      <th>flex_1</th>\n",
       "      <th>flex_1_pval</th>\n",
       "      <th>flex_2</th>\n",
       "      <th>flex_2_pval</th>\n",
       "      <th>flex_method_avg</th>\n",
       "      <th>flex_method_pval</th>\n",
       "    </tr>\n",
       "    <tr>\n",
       "      <th>metrics</th>\n",
       "      <th></th>\n",
       "      <th></th>\n",
       "      <th></th>\n",
       "      <th></th>\n",
       "      <th></th>\n",
       "      <th></th>\n",
       "    </tr>\n",
       "  </thead>\n",
       "  <tbody>\n",
       "    <tr>\n",
       "      <th>ewm</th>\n",
       "      <td>0.079815</td>\n",
       "      <td>0.4546</td>\n",
       "      <td>0.079815</td>\n",
       "      <td>0.4546</td>\n",
       "      <td>0.190157</td>\n",
       "      <td>0.0726</td>\n",
       "    </tr>\n",
       "    <tr>\n",
       "      <th>ewm_clust</th>\n",
       "      <td>0.127786</td>\n",
       "      <td>0.23</td>\n",
       "      <td>0.127786</td>\n",
       "      <td>0.23</td>\n",
       "      <td>0.147896</td>\n",
       "      <td>0.1642</td>\n",
       "    </tr>\n",
       "    <tr>\n",
       "      <th>minvec</th>\n",
       "      <td>0.289169</td>\n",
       "      <td>0.0057</td>\n",
       "      <td>0.289169</td>\n",
       "      <td>0.0057</td>\n",
       "      <td>0.263412</td>\n",
       "      <td>0.0121</td>\n",
       "    </tr>\n",
       "    <tr>\n",
       "      <th>minvec_clust</th>\n",
       "      <td>0.371233</td>\n",
       "      <td>0.0003</td>\n",
       "      <td>0.371233</td>\n",
       "      <td>0.0003</td>\n",
       "      <td>0.291475</td>\n",
       "      <td>0.0053</td>\n",
       "    </tr>\n",
       "    <tr>\n",
       "      <th>minvec_min</th>\n",
       "      <td>-0.432635</td>\n",
       "      <td>0.0</td>\n",
       "      <td>-0.432635</td>\n",
       "      <td>0.0</td>\n",
       "      <td>0.011132</td>\n",
       "      <td>0.9171</td>\n",
       "    </tr>\n",
       "  </tbody>\n",
       "</table>\n",
       "</div>"
      ],
      "text/plain": [
       "                flex_1 flex_1_pval    flex_2 flex_2_pval  flex_method_avg  \\\n",
       "metrics                                                                     \n",
       "ewm           0.079815      0.4546  0.079815      0.4546         0.190157   \n",
       "ewm_clust     0.127786        0.23  0.127786        0.23         0.147896   \n",
       "minvec        0.289169      0.0057  0.289169      0.0057         0.263412   \n",
       "minvec_clust  0.371233      0.0003  0.371233      0.0003         0.291475   \n",
       "minvec_min   -0.432635         0.0 -0.432635         0.0         0.011132   \n",
       "\n",
       "             flex_method_pval  \n",
       "metrics                        \n",
       "ewm                    0.0726  \n",
       "ewm_clust              0.1642  \n",
       "minvec                 0.0121  \n",
       "minvec_clust           0.0053  \n",
       "minvec_min             0.9171  "
      ]
     },
     "metadata": {},
     "output_type": "display_data"
    }
   ],
   "source": [
    "calculate_corrs_novelty_flexibility(novelty_dict.values(), flexibility_dict.values())"
   ]
  },
  {
   "cell_type": "code",
   "execution_count": null,
   "metadata": {},
   "outputs": [],
   "source": []
  },
  {
   "cell_type": "markdown",
   "metadata": {},
   "source": [
    "## Big Correlation Matrix"
   ]
  },
  {
   "cell_type": "code",
   "execution_count": 28,
   "metadata": {},
   "outputs": [],
   "source": [
    "def calculate_mega_matrix(novelty_dict_values, flexibility_dict_values, originality_dict_value, fluency_dict_value):\n",
    "    collapse_novelty_df = pd.concat(novelty_dict_values)\n",
    "    collapse_flexibility_df = pd.concat(flexibility_dict_values)\n",
    "    collapse_originality_df = pd.concat(originality_dict_value)\n",
    "    collapse_fluency_df = pd.concat(fluency_dict_value)\n",
    "    participant_avg_novelty_df = get_novelty_avg_semdis(collapse_novelty_df)\n",
    "    participant_avg_flexibility_df = get_flexibility_avg(collapse_flexibility_df)\n",
    "    participant_avg_originality_df = get_originality_avg(collapse_originality_df)\n",
    "    participant_avg_fluency_df = get_fluency_avg(collapse_fluency_df)\n",
    "    combined_df = pd.merge(participant_avg_novelty_df, participant_avg_flexibility_df, how='inner', on = 'id')\n",
    "    combined_df = pd.merge(combined_df, participant_avg_originality_df, how='inner', on = 'id')\n",
    "    combined_df = pd.merge(combined_df, participant_avg_fluency_df, how='inner', on = 'id')\n",
    "    combined_df = combined_df.drop('id', axis=1)\n",
    "    pval_df = calculate_pvalues(combined_df)\n",
    "    corrs_df = combined_df.corr()\n",
    "    return (corrs_df, pval_df)"
   ]
  },
  {
   "cell_type": "code",
   "execution_count": 29,
   "metadata": {},
   "outputs": [],
   "source": [
    "mega_matrix = calculate_mega_matrix(novelty_dict.values(), flexibility_dict.values(), originality_dict.values(), fluency_dict.values())"
   ]
  },
  {
   "cell_type": "code",
   "execution_count": 30,
   "metadata": {},
   "outputs": [],
   "source": [
    "# mega_matrix[0].to_csv(\"mega_matrix_corrs.csv\")"
   ]
  },
  {
   "cell_type": "code",
   "execution_count": 31,
   "metadata": {},
   "outputs": [],
   "source": [
    "# mega_matrix[1].to_csv(\"mega_matrix_pvals.csv\")"
   ]
  },
  {
   "cell_type": "code",
   "execution_count": null,
   "metadata": {},
   "outputs": [],
   "source": []
  }
 ],
 "metadata": {
  "interpreter": {
   "hash": "f4fb9038e648b520597eaf423817a5ee4bf2adb29cdca822101c12482799b056"
  },
  "kernelspec": {
   "display_name": "Python 3",
   "language": "python",
   "name": "python3"
  },
  "language_info": {
   "codemirror_mode": {
    "name": "ipython",
    "version": 3
   },
   "file_extension": ".py",
   "mimetype": "text/x-python",
   "name": "python",
   "nbconvert_exporter": "python",
   "pygments_lexer": "ipython3",
   "version": "3.9.5"
  }
 },
 "nbformat": 4,
 "nbformat_minor": 2
}
