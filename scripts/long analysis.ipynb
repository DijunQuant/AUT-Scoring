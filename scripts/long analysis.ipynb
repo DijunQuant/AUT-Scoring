{
 "cells": [
  {
   "cell_type": "code",
   "execution_count": 272,
   "metadata": {},
   "outputs": [],
   "source": [
    "import nltk\n",
    "import pandas as pd\n",
    "import numpy as np\n",
    "\n",
    "import re\n",
    "from functools import reduce\n",
    "import openpyxl\n",
    "import xlsxwriter\n",
    "\n",
    "from sklearn.linear_model import LinearRegression\n",
    "import matplotlib.pyplot as plt\n",
    "from sklearn.decomposition import PCA\n",
    "\n",
    "from scipy.stats import pearsonr\n",
    "from sklearn.impute import SimpleImputer\n",
    "\n",
    "import os\n",
    "import importlib\n",
    "import utilities\n",
    "%matplotlib inline\n",
    "from scipy.stats import pearsonr\n",
    "import numpy as np\n",
    "import seaborn as sns\n",
    "import ast"
   ]
  },
  {
   "cell_type": "code",
   "execution_count": 273,
   "metadata": {},
   "outputs": [
    {
     "data": {
      "text/plain": [
       "<module 'utilities' from '/Users/yyu/PycharmProjects/AUT-Scoring/scripts/utilities.py'>"
      ]
     },
     "execution_count": 273,
     "metadata": {},
     "output_type": "execute_result"
    }
   ],
   "source": [
    "importlib.reload(utilities)"
   ]
  },
  {
   "cell_type": "markdown",
   "metadata": {},
   "source": [
    "# load "
   ]
  },
  {
   "cell_type": "code",
   "execution_count": 274,
   "metadata": {},
   "outputs": [],
   "source": [
    "splist=['cbow_6_ukwac_subtitle','cbow_subtitle','glove_6B','TASA','ukwac']\n",
    "sourceFolder ='/Users/yyu/Box Sync/ORG-SCHOOL-WCAS-PSYCHOLOGY-BEEMAN-LAB/COAT/scoring/SemDisData/rawdata/'\n",
    "resultFolder ='/Users/yyu/Box Sync/ORG-SCHOOL-WCAS-PSYCHOLOGY-BEEMAN-LAB/COAT/scoring/SemDisData/algos/'"
   ]
  },
  {
   "cell_type": "markdown",
   "metadata": {},
   "source": [
    "### 1: 'cbow_6_ukwac_subtitle'\n",
    "### 2: 'cbow_subtitle'\n",
    "### 3: 'glove_6B'\n",
    "### 4: 'TASA'"
   ]
  },
  {
   "cell_type": "markdown",
   "metadata": {},
   "source": [
    "## Legend\n",
    "### min: novelty measure between response and stim, semantic distance with \"minimun similarity word\"\n",
    "### disp: dispersion of response set from same subject \n",
    "### orig: originality of a response based on freqency of occuring from all subjects\n",
    "### volume: minimum volume of enclosing ellipsoid of the response set\n",
    "### fluency: number of responses from a subject\n",
    "\n",
    "## item code\n",
    "### b_: box, r_: rope, br_:brick"
   ]
  },
  {
   "cell_type": "code",
   "execution_count": 59,
   "metadata": {},
   "outputs": [
    {
     "data": {
      "text/plain": [
       "['cbow_6_ukwac_subtitle', 'cbow_subtitle', 'glove_6B', 'TASA']"
      ]
     },
     "execution_count": 59,
     "metadata": {},
     "output_type": "execute_result"
    }
   ],
   "source": [
    "splist"
   ]
  },
  {
   "cell_type": "code",
   "execution_count": 3,
   "metadata": {},
   "outputs": [
    {
     "name": "stdout",
     "output_type": "stream",
     "text": [
      "['1', '2', '3', '4']\n"
     ]
    }
   ],
   "source": [
    "def renameLabel(label):\n",
    "    ret=label\n",
    "    for i in range(len(splist)):\n",
    "        ret=ret.replace(splist[i],str(i+1))\n",
    "    return ret\n",
    "print([renameLabel(l) for l in splist])\n",
    "    "
   ]
  },
  {
   "cell_type": "code",
   "execution_count": 275,
   "metadata": {},
   "outputs": [],
   "source": [
    "sdSpace=['cbowu','cbows','cboww','tasa','glov']\n"
   ]
  },
  {
   "cell_type": "code",
   "execution_count": 4,
   "metadata": {},
   "outputs": [],
   "source": [
    "imp_mean = SimpleImputer(missing_values=np.nan, strategy='mean')"
   ]
  },
  {
   "cell_type": "code",
   "execution_count": 5,
   "metadata": {},
   "outputs": [],
   "source": [
    "def getPC(df,cols):\n",
    "    ndata=(df[cols]-df[cols].mean())/df[cols].std()\n",
    "    imp_mean.fit(ndata.values)\n",
    "    pca = PCA(n_components=1)\n",
    "\n",
    "    imputed=imp_mean.transform(ndata.values)\n",
    "    pca.fit(imputed)\n",
    "    pc1=(pca.fit_transform(imputed).T)[0]\n",
    "  \n",
    "    return (pc1-np.mean(pc1))/np.std(pc1)\n"
   ]
  },
  {
   "cell_type": "markdown",
   "metadata": {},
   "source": [
    "# BRM Study 1"
   ]
  },
  {
   "cell_type": "code",
   "execution_count": 276,
   "metadata": {},
   "outputs": [
    {
     "data": {
      "text/plain": [
       "Index(['id', 'item', 'response', 'rater1', 'rater2', 'rater3', 'rater4',\n",
       "       'cbowu_m', 'cbows_m', 'cboww_m', 'tasa_m', 'glov_m', 'cbowu_a',\n",
       "       'cbows_a', 'cboww_a', 'tasa_a', 'glov_a', 'response_processed', 'rater',\n",
       "       'wad_cbowu', 'ewm_cbowu', 'mad_cbowu', 'wad_cbows', 'ewm_cbows',\n",
       "       'mad_cbows', 'wad_glov', 'ewm_glov', 'mad_glov', 'wad_tasa', 'ewm_tasa',\n",
       "       'mad_tasa', 'wad_cboww', 'ewm_cboww', 'mad_cboww', 'study'],\n",
       "      dtype='object')"
      ]
     },
     "execution_count": 276,
     "metadata": {},
     "output_type": "execute_result"
    }
   ],
   "source": [
    "studytag='s1'\n",
    "#file = studytag+'_data_long.xlsx'\n",
    "#agg=pd.read_excel(sourceFolder+file,sheet_name=studytag+'_data_long')\n",
    "file = studytag+'_yy_long.csv'\n",
    "df=pd.read_csv(resultFolder+file)\n",
    "df['study']=1\n",
    "df.columns"
   ]
  },
  {
   "cell_type": "code",
   "execution_count": 277,
   "metadata": {},
   "outputs": [],
   "source": [
    "df['SemDis_MEAN']=df[[s+'_m' for s in sdSpace]].mean(axis=1)\n",
    "df['ewm_MEAN']=df[['ewm_'+s for s in sdSpace]].mean(axis=1)\n",
    "df['mad_MEAN']=df[['mad_'+s for s in sdSpace]].mean(axis=1)\n",
    "df['wad_MEAN']=df[['wad_'+s for s in sdSpace]].mean(axis=1)"
   ]
  },
  {
   "cell_type": "code",
   "execution_count": 278,
   "metadata": {},
   "outputs": [],
   "source": [
    "df.rename(columns=dict([(s+'_m','SemDis_'+s) for s in sdSpace]),inplace=True)"
   ]
  },
  {
   "cell_type": "code",
   "execution_count": 279,
   "metadata": {},
   "outputs": [],
   "source": [
    "allcols=['SemDis_MEAN','ewm_MEAN','mad_MEAN','wad_MEAN','wordcnt','rater']\n",
    "allcols=['SemDis_MEAN','ewm_MEAN','mad_MEAN','wad_MEAN','wordcnt','rater','id','item','response','response_processed','study']"
   ]
  },
  {
   "cell_type": "code",
   "execution_count": 280,
   "metadata": {},
   "outputs": [
    {
     "data": {
      "text/plain": [
       "count    2918.000000\n",
       "mean        1.703907\n",
       "std         1.087873\n",
       "min         0.000000\n",
       "25%         1.000000\n",
       "50%         1.000000\n",
       "75%         2.000000\n",
       "max        11.000000\n",
       "Name: wordcnt, dtype: float64"
      ]
     },
     "execution_count": 280,
     "metadata": {},
     "output_type": "execute_result"
    }
   ],
   "source": [
    "df['wordcnt']=df.apply(lambda r: len(ast.literal_eval(r['response_processed'])),axis=1)\n",
    "df['wordcnt'].describe()"
   ]
  },
  {
   "cell_type": "code",
   "execution_count": 281,
   "metadata": {},
   "outputs": [
    {
     "data": {
      "text/plain": [
       "Index(['id', 'item', 'response', 'cbowu', 'cbows', 'cboww', 'tasa', 'glov',\n",
       "       'rater1', 'rater2', 'rater3', 'self', 'rater', 'response_processed',\n",
       "       'wad_cbowu', 'ewm_cbowu', 'mad_cbowu', 'wad_cbows', 'ewm_cbows',\n",
       "       'mad_cbows', 'wad_glov', 'ewm_glov', 'mad_glov', 'wad_tasa', 'ewm_tasa',\n",
       "       'mad_tasa', 'wad_cboww', 'ewm_cboww', 'mad_cboww', 'study'],\n",
       "      dtype='object')"
      ]
     },
     "execution_count": 281,
     "metadata": {},
     "output_type": "execute_result"
    }
   ],
   "source": [
    "studytag='s2'\n",
    "#file = studytag+'_data_long.xlsx'\n",
    "#agg=pd.read_excel(sourceFolder+file,sheet_name=studytag+'_data_long')\n",
    "file = studytag+'_yy_long.csv'\n",
    "df2=pd.read_csv(resultFolder+file)\n",
    "df2['study']=2\n",
    "df2.columns"
   ]
  },
  {
   "cell_type": "code",
   "execution_count": 282,
   "metadata": {},
   "outputs": [
    {
     "data": {
      "text/plain": [
       "count    2372.000000\n",
       "mean        1.944351\n",
       "std         1.527846\n",
       "min         0.000000\n",
       "25%         1.000000\n",
       "50%         2.000000\n",
       "75%         2.000000\n",
       "max        20.000000\n",
       "Name: wordcnt, dtype: float64"
      ]
     },
     "execution_count": 282,
     "metadata": {},
     "output_type": "execute_result"
    }
   ],
   "source": [
    "df2['SemDis_MEAN']=df2[[s for s in sdSpace]].mean(axis=1)\n",
    "df2['ewm_MEAN']=df2[['ewm_'+s for s in sdSpace]].mean(axis=1)\n",
    "df2['mad_MEAN']=df2[['mad_'+s for s in sdSpace]].mean(axis=1)\n",
    "df2['wad_MEAN']=df2[['wad_'+s for s in sdSpace]].mean(axis=1)\n",
    "df2['wordcnt']=df2.apply(lambda r: len(ast.literal_eval(r['response_processed'])),axis=1)\n",
    "df2['wordcnt'].describe()"
   ]
  },
  {
   "cell_type": "code",
   "execution_count": 283,
   "metadata": {},
   "outputs": [],
   "source": [
    "df2.rename(columns=dict([(s,'SemDis_'+s) for s in sdSpace]),inplace=True)"
   ]
  },
  {
   "cell_type": "code",
   "execution_count": 284,
   "metadata": {},
   "outputs": [
    {
     "data": {
      "text/plain": [
       "Index(['id', 'item', 'response', 'time', 'br_rater1', 'br_rater2', 'br_rater3',\n",
       "       'br_mean', 'cbowu', 'cbows', 'cboww', 'tasa', 'glov',\n",
       "       'response_processed', 'rater', 'wad_cbowu', 'ewm_cbowu', 'mad_cbowu',\n",
       "       'wad_cbows', 'ewm_cbows', 'mad_cbows', 'wad_glov', 'ewm_glov',\n",
       "       'mad_glov', 'wad_tasa', 'ewm_tasa', 'mad_tasa', 'wad_cboww',\n",
       "       'ewm_cboww', 'mad_cboww', 'study'],\n",
       "      dtype='object')"
      ]
     },
     "execution_count": 284,
     "metadata": {},
     "output_type": "execute_result"
    }
   ],
   "source": [
    "studytag='s3'\n",
    "#file = studytag+'_data_long.xlsx'\n",
    "#agg=pd.read_excel(sourceFolder+file,sheet_name=studytag+'_data_long')\n",
    "file = studytag+'_yy_long.csv'\n",
    "df3=pd.read_csv(resultFolder+file)\n",
    "df3['study']=3\n",
    "df3.columns"
   ]
  },
  {
   "cell_type": "code",
   "execution_count": 285,
   "metadata": {},
   "outputs": [
    {
     "data": {
      "text/plain": [
       "count    1807.000000\n",
       "mean        2.461538\n",
       "std         1.778903\n",
       "min         0.000000\n",
       "25%         1.000000\n",
       "50%         2.000000\n",
       "75%         3.000000\n",
       "max        17.000000\n",
       "Name: wordcnt, dtype: float64"
      ]
     },
     "execution_count": 285,
     "metadata": {},
     "output_type": "execute_result"
    }
   ],
   "source": [
    "df3['SemDis_MEAN']=df3[[s for s in sdSpace]].mean(axis=1)\n",
    "df3['ewm_MEAN']=df3[['ewm_'+s for s in sdSpace]].mean(axis=1)\n",
    "df3['mad_MEAN']=df3[['mad_'+s for s in sdSpace]].mean(axis=1)\n",
    "df3['wad_MEAN']=df3[['wad_'+s for s in sdSpace]].mean(axis=1)\n",
    "df3['wordcnt']=df3.apply(lambda r: len(ast.literal_eval(r['response_processed'])),axis=1)\n",
    "df3['wordcnt'].describe()"
   ]
  },
  {
   "cell_type": "code",
   "execution_count": 286,
   "metadata": {},
   "outputs": [],
   "source": [
    "df3.rename(columns=dict([(s,'SemDis_'+s) for s in sdSpace]),inplace=True)"
   ]
  },
  {
   "cell_type": "code",
   "execution_count": 287,
   "metadata": {},
   "outputs": [],
   "source": [
    "dfAll=pd.concat([df[allcols],df2[allcols],df3[allcols]])"
   ]
  },
  {
   "cell_type": "code",
   "execution_count": 271,
   "metadata": {},
   "outputs": [],
   "source": [
    "tmp=pd.concat([df[allcols],df2[allcols],df3[allcols]])\n",
    "#tmp=tmp.groupby(['id','study','item']).max()\n",
    "tmp=tmp.groupby(['id','study','item']).mean()\n",
    "tmp=tmp.groupby(level=[0,1]).mean()\n",
    "#tmp.to_csv(resultFolder+'BRM_agg_maxmean.csv')\n",
    "tmp.to_csv(resultFolder+'BRM_agg_meanmean.csv')"
   ]
  },
  {
   "cell_type": "code",
   "execution_count": 289,
   "metadata": {},
   "outputs": [
    {
     "data": {
      "text/plain": [
       "['a', 'b', 'c']"
      ]
     },
     "execution_count": 289,
     "metadata": {},
     "output_type": "execute_result"
    }
   ],
   "source": [
    "'a b  c'.split()"
   ]
  },
  {
   "cell_type": "code",
   "execution_count": 291,
   "metadata": {},
   "outputs": [
    {
     "data": {
      "text/html": [
       "<div>\n",
       "<style scoped>\n",
       "    .dataframe tbody tr th:only-of-type {\n",
       "        vertical-align: middle;\n",
       "    }\n",
       "\n",
       "    .dataframe tbody tr th {\n",
       "        vertical-align: top;\n",
       "    }\n",
       "\n",
       "    .dataframe thead th {\n",
       "        text-align: right;\n",
       "    }\n",
       "</style>\n",
       "<table border=\"1\" class=\"dataframe\">\n",
       "  <thead>\n",
       "    <tr style=\"text-align: right;\">\n",
       "      <th></th>\n",
       "      <th>wordcntall</th>\n",
       "      <th>wordcnt</th>\n",
       "    </tr>\n",
       "  </thead>\n",
       "  <tbody>\n",
       "    <tr>\n",
       "      <td>count</td>\n",
       "      <td>7097.000000</td>\n",
       "      <td>7097.000000</td>\n",
       "    </tr>\n",
       "    <tr>\n",
       "      <td>mean</td>\n",
       "      <td>3.738199</td>\n",
       "      <td>1.977173</td>\n",
       "    </tr>\n",
       "    <tr>\n",
       "      <td>std</td>\n",
       "      <td>4.153576</td>\n",
       "      <td>1.470602</td>\n",
       "    </tr>\n",
       "    <tr>\n",
       "      <td>min</td>\n",
       "      <td>1.000000</td>\n",
       "      <td>0.000000</td>\n",
       "    </tr>\n",
       "    <tr>\n",
       "      <td>25%</td>\n",
       "      <td>1.000000</td>\n",
       "      <td>1.000000</td>\n",
       "    </tr>\n",
       "    <tr>\n",
       "      <td>50%</td>\n",
       "      <td>2.000000</td>\n",
       "      <td>2.000000</td>\n",
       "    </tr>\n",
       "    <tr>\n",
       "      <td>75%</td>\n",
       "      <td>5.000000</td>\n",
       "      <td>2.000000</td>\n",
       "    </tr>\n",
       "    <tr>\n",
       "      <td>max</td>\n",
       "      <td>50.000000</td>\n",
       "      <td>20.000000</td>\n",
       "    </tr>\n",
       "  </tbody>\n",
       "</table>\n",
       "</div>"
      ],
      "text/plain": [
       "        wordcntall      wordcnt\n",
       "count  7097.000000  7097.000000\n",
       "mean      3.738199     1.977173\n",
       "std       4.153576     1.470602\n",
       "min       1.000000     0.000000\n",
       "25%       1.000000     1.000000\n",
       "50%       2.000000     2.000000\n",
       "75%       5.000000     2.000000\n",
       "max      50.000000    20.000000"
      ]
     },
     "execution_count": 291,
     "metadata": {},
     "output_type": "execute_result"
    }
   ],
   "source": [
    "dfAll['wordcntall']=dfAll.apply(lambda r: len(r['response'].split()),axis=1)\n",
    "dfAll[['wordcntall','wordcnt']].describe()"
   ]
  },
  {
   "cell_type": "code",
   "execution_count": 292,
   "metadata": {},
   "outputs": [
    {
     "data": {
      "text/plain": [
       "(2473, 4054, 3360, 7097)"
      ]
     },
     "execution_count": 292,
     "metadata": {},
     "output_type": "execute_result"
    }
   ],
   "source": [
    "(len(dfAll[dfAll['wordcntall']<2]),len(dfAll[dfAll['wordcntall']<3]),len(dfAll[dfAll['wordcnt']<2]),len(dfAll))"
   ]
  },
  {
   "cell_type": "code",
   "execution_count": 293,
   "metadata": {},
   "outputs": [
    {
     "data": {
      "text/html": [
       "<div>\n",
       "<style scoped>\n",
       "    .dataframe tbody tr th:only-of-type {\n",
       "        vertical-align: middle;\n",
       "    }\n",
       "\n",
       "    .dataframe tbody tr th {\n",
       "        vertical-align: top;\n",
       "    }\n",
       "\n",
       "    .dataframe thead th {\n",
       "        text-align: right;\n",
       "    }\n",
       "</style>\n",
       "<table border=\"1\" class=\"dataframe\">\n",
       "  <thead>\n",
       "    <tr style=\"text-align: right;\">\n",
       "      <th></th>\n",
       "      <th>rater</th>\n",
       "    </tr>\n",
       "  </thead>\n",
       "  <tbody>\n",
       "    <tr>\n",
       "      <td>wordcnt</td>\n",
       "      <td>0.42***</td>\n",
       "    </tr>\n",
       "    <tr>\n",
       "      <td>wordcntall</td>\n",
       "      <td>0.37***</td>\n",
       "    </tr>\n",
       "  </tbody>\n",
       "</table>\n",
       "</div>"
      ],
      "text/plain": [
       "              rater\n",
       "wordcnt     0.42***\n",
       "wordcntall  0.37***"
      ]
     },
     "metadata": {},
     "output_type": "display_data"
    }
   ],
   "source": [
    "utilities.printNiceCorrTable(dfAll,['wordcnt','wordcntall'],['rater'])"
   ]
  },
  {
   "cell_type": "code",
   "execution_count": 294,
   "metadata": {},
   "outputs": [
    {
     "data": {
      "text/html": [
       "<div>\n",
       "<style scoped>\n",
       "    .dataframe tbody tr th:only-of-type {\n",
       "        vertical-align: middle;\n",
       "    }\n",
       "\n",
       "    .dataframe tbody tr th {\n",
       "        vertical-align: top;\n",
       "    }\n",
       "\n",
       "    .dataframe thead th {\n",
       "        text-align: right;\n",
       "    }\n",
       "</style>\n",
       "<table border=\"1\" class=\"dataframe\">\n",
       "  <thead>\n",
       "    <tr style=\"text-align: right;\">\n",
       "      <th></th>\n",
       "      <th>SemDis_MEAN</th>\n",
       "      <th>ewm_MEAN</th>\n",
       "      <th>mad_MEAN</th>\n",
       "      <th>wad_MEAN</th>\n",
       "    </tr>\n",
       "  </thead>\n",
       "  <tbody>\n",
       "    <tr>\n",
       "      <td>wordcnt</td>\n",
       "      <td>0.38***</td>\n",
       "      <td>0.43***</td>\n",
       "      <td>0.49***</td>\n",
       "      <td>0.3***</td>\n",
       "    </tr>\n",
       "    <tr>\n",
       "      <td>wordcntall</td>\n",
       "      <td>0.34***</td>\n",
       "      <td>0.32***</td>\n",
       "      <td>0.41***</td>\n",
       "      <td>0.25***</td>\n",
       "    </tr>\n",
       "  </tbody>\n",
       "</table>\n",
       "</div>"
      ],
      "text/plain": [
       "           SemDis_MEAN ewm_MEAN mad_MEAN wad_MEAN\n",
       "wordcnt        0.38***  0.43***  0.49***   0.3***\n",
       "wordcntall     0.34***  0.32***  0.41***  0.25***"
      ]
     },
     "metadata": {},
     "output_type": "display_data"
    }
   ],
   "source": [
    "utilities.printNiceCorrTable(dfAll,['wordcnt','wordcntall'],['SemDis_MEAN','ewm_MEAN','mad_MEAN','wad_MEAN'])"
   ]
  },
  {
   "cell_type": "code",
   "execution_count": 84,
   "metadata": {},
   "outputs": [
    {
     "name": "stdout",
     "output_type": "stream",
     "text": [
      "(2.782041658819181, 0.005416085669780468)\n",
      "(-1.0492788833184732, 0.2940855770790838)\n",
      "(-5.5782616297284715, 2.5189814456538784e-08)\n",
      "(8.947872947067506, 0.0)\n"
     ]
    }
   ],
   "source": [
    "for col in ['SemDis_MEAN','ewm_MEAN','mad_MEAN','wad_MEAN']:\n",
    "    print(utilities.testCorrDiff(dfAll,'wordcnt','rater',col))"
   ]
  },
  {
   "cell_type": "code",
   "execution_count": 295,
   "metadata": {},
   "outputs": [
    {
     "name": "stdout",
     "output_type": "stream",
     "text": [
      "(1.9901086209407703, 0.046617300163367625)\n",
      "(3.3907035448043468, 0.0007009445155541361)\n",
      "(-2.8929312310287862, 0.0038282804653428926)\n",
      "(8.675714307255948, 0.0)\n"
     ]
    }
   ],
   "source": [
    "for col in ['SemDis_MEAN','ewm_MEAN','mad_MEAN','wad_MEAN']:\n",
    "    print(utilities.testCorrDiff(dfAll,'wordcntall','rater',col))"
   ]
  },
  {
   "cell_type": "code",
   "execution_count": 85,
   "metadata": {},
   "outputs": [
    {
     "data": {
      "text/html": [
       "<div>\n",
       "<style scoped>\n",
       "    .dataframe tbody tr th:only-of-type {\n",
       "        vertical-align: middle;\n",
       "    }\n",
       "\n",
       "    .dataframe tbody tr th {\n",
       "        vertical-align: top;\n",
       "    }\n",
       "\n",
       "    .dataframe thead th {\n",
       "        text-align: right;\n",
       "    }\n",
       "</style>\n",
       "<table border=\"1\" class=\"dataframe\">\n",
       "  <thead>\n",
       "    <tr style=\"text-align: right;\">\n",
       "      <th></th>\n",
       "      <th>SemDis_MEAN</th>\n",
       "      <th>ewm_MEAN</th>\n",
       "      <th>mad_MEAN</th>\n",
       "      <th>wad_MEAN</th>\n",
       "    </tr>\n",
       "  </thead>\n",
       "  <tbody>\n",
       "    <tr>\n",
       "      <td>ewm_MEAN</td>\n",
       "      <td>0.81***</td>\n",
       "      <td></td>\n",
       "      <td></td>\n",
       "      <td></td>\n",
       "    </tr>\n",
       "    <tr>\n",
       "      <td>mad_MEAN</td>\n",
       "      <td>0.68***</td>\n",
       "      <td>0.81***</td>\n",
       "      <td></td>\n",
       "      <td></td>\n",
       "    </tr>\n",
       "    <tr>\n",
       "      <td>wad_MEAN</td>\n",
       "      <td>0.61***</td>\n",
       "      <td>0.73***</td>\n",
       "      <td>0.95***</td>\n",
       "      <td></td>\n",
       "    </tr>\n",
       "    <tr>\n",
       "      <td>rater</td>\n",
       "      <td>0.26***</td>\n",
       "      <td>0.3***</td>\n",
       "      <td>0.36***</td>\n",
       "      <td>0.3***</td>\n",
       "    </tr>\n",
       "  </tbody>\n",
       "</table>\n",
       "</div>"
      ],
      "text/plain": [
       "         SemDis_MEAN ewm_MEAN mad_MEAN wad_MEAN\n",
       "ewm_MEAN     0.81***                           \n",
       "mad_MEAN     0.68***  0.81***                  \n",
       "wad_MEAN     0.61***  0.73***  0.95***         \n",
       "rater        0.26***   0.3***  0.36***   0.3***"
      ]
     },
     "metadata": {},
     "output_type": "display_data"
    }
   ],
   "source": [
    "utilities.printTriNiceCorrTable(dfAll,['SemDis_MEAN','ewm_MEAN','mad_MEAN','wad_MEAN','rater'])"
   ]
  },
  {
   "cell_type": "code",
   "execution_count": 99,
   "metadata": {},
   "outputs": [
    {
     "data": {
      "text/plain": [
       "(3.1819740580194784, 0.0014690673307224955)"
      ]
     },
     "execution_count": 99,
     "metadata": {},
     "output_type": "execute_result"
    }
   ],
   "source": [
    "utilities.testCorrDiff(dfAll,'rater','ewm_MEAN','SemDis_MEAN')"
   ]
  },
  {
   "cell_type": "code",
   "execution_count": 100,
   "metadata": {},
   "outputs": [
    {
     "data": {
      "text/plain": [
       "(-4.763462841297103, 1.9408553899591396e-06)"
      ]
     },
     "execution_count": 100,
     "metadata": {},
     "output_type": "execute_result"
    }
   ],
   "source": [
    "utilities.testCorrDiff(dfAll,'rater','ewm_MEAN','mad_MEAN')"
   ]
  },
  {
   "cell_type": "code",
   "execution_count": 101,
   "metadata": {},
   "outputs": [
    {
     "data": {
      "text/plain": [
       "(0.5643914489564359, 0.5725056258466745)"
      ]
     },
     "execution_count": 101,
     "metadata": {},
     "output_type": "execute_result"
    }
   ],
   "source": [
    "utilities.testCorrDiff(dfAll,'rater','ewm_MEAN','wad_MEAN')"
   ]
  },
  {
   "cell_type": "code",
   "execution_count": 102,
   "metadata": {},
   "outputs": [
    {
     "data": {
      "text/plain": [
       "(5.458244731090917, 4.971503453354842e-08)"
      ]
     },
     "execution_count": 102,
     "metadata": {},
     "output_type": "execute_result"
    }
   ],
   "source": [
    "utilities.testCorrDiff(dfAll,'rater','mad_MEAN','wad_MEAN')"
   ]
  },
  {
   "cell_type": "code",
   "execution_count": 98,
   "metadata": {
    "scrolled": true
   },
   "outputs": [
    {
     "data": {
      "text/plain": [
       "(15.0, 0.0)"
      ]
     },
     "execution_count": 98,
     "metadata": {},
     "output_type": "execute_result"
    },
    {
     "data": {
      "image/png": "[encoded data removed]",
      "text/plain": [
       "<Figure size 792x648 with 2 Axes>"
      ]
     },
     "metadata": {},
     "output_type": "display_data"
    }
   ],
   "source": [
    "\n",
    "sdCols=['SemDis_'+s for s in sdSpace]\n",
    "ewmCols = ['ewm_'+s for s in sdSpace]\n",
    "madCols = ['mad_'+s for s in sdSpace]\n",
    "wadCols = ['wad_'+s for s in sdSpace]\n",
    "\n",
    "\n",
    "sns.set(font_scale=1.5) \n",
    "sns.set_style(\"whitegrid\")\n",
    "corrdf=pd.concat([df[sdCols+ewmCols+madCols],df2[sdCols+ewmCols+madCols],df3[sdCols+ewmCols+madCols]]).corr()\n",
    "\n",
    "#corrdf=df[ewmCols+madCols+wadCols].corr()\n",
    "mask = np.triu(np.ones_like(corrdf, dtype=bool))\n",
    "\n",
    "# Set up the matplotlib figure\n",
    "f, ax = plt.subplots(figsize=(11, 9))\n",
    "\n",
    "# Generate a custom diverging colormap\n",
    "cmap = sns.diverging_palette(230, 304, s=80,sep=20,center='light',as_cmap=True)\n",
    "\n",
    "# Draw the heatmap with the mask and correct aspect ratio\n",
    "sns.heatmap(corrdf, mask=mask, cmap='Greens',center=.6,vmax=.9,\n",
    "            square=True, linewidths=.5,cbar_kws={\"shrink\": .5})\n",
    "plt.xticks(rotation=45,horizontalalignment='right')\n",
    "b, t = plt.ylim() # discover the values for bottom and top\n",
    "b += 0.5 # Add 0.5 to the bottom\n",
    "t -= 0.5 # Subtract 0.5 from the top\n",
    "plt.ylim(b, t) # update the ylim(bottom, top) values"
   ]
  },
  {
   "cell_type": "code",
   "execution_count": 296,
   "metadata": {},
   "outputs": [
    {
     "name": "stdout",
     "output_type": "stream",
     "text": [
      "2473 7097\n"
     ]
    },
    {
     "data": {
      "text/html": [
       "<div>\n",
       "<style scoped>\n",
       "    .dataframe tbody tr th:only-of-type {\n",
       "        vertical-align: middle;\n",
       "    }\n",
       "\n",
       "    .dataframe tbody tr th {\n",
       "        vertical-align: top;\n",
       "    }\n",
       "\n",
       "    .dataframe thead th {\n",
       "        text-align: right;\n",
       "    }\n",
       "</style>\n",
       "<table border=\"1\" class=\"dataframe\">\n",
       "  <thead>\n",
       "    <tr style=\"text-align: right;\">\n",
       "      <th></th>\n",
       "      <th>mean</th>\n",
       "      <th>se</th>\n",
       "    </tr>\n",
       "  </thead>\n",
       "  <tbody>\n",
       "    <tr>\n",
       "      <td>SemDis_MEAN</td>\n",
       "      <td>0.831974</td>\n",
       "      <td>0.001848</td>\n",
       "    </tr>\n",
       "    <tr>\n",
       "      <td>ewm_MEAN</td>\n",
       "      <td>0.823751</td>\n",
       "      <td>0.002012</td>\n",
       "    </tr>\n",
       "    <tr>\n",
       "      <td>mad_MEAN</td>\n",
       "      <td>0.823517</td>\n",
       "      <td>0.002005</td>\n",
       "    </tr>\n",
       "    <tr>\n",
       "      <td>wad_MEAN</td>\n",
       "      <td>0.823444</td>\n",
       "      <td>0.002004</td>\n",
       "    </tr>\n",
       "    <tr>\n",
       "      <td>wordcnt</td>\n",
       "      <td>1.001617</td>\n",
       "      <td>0.001143</td>\n",
       "    </tr>\n",
       "    <tr>\n",
       "      <td>rater</td>\n",
       "      <td>1.373671</td>\n",
       "      <td>0.008570</td>\n",
       "    </tr>\n",
       "    <tr>\n",
       "      <td>id</td>\n",
       "      <td>1157.855641</td>\n",
       "      <td>20.257956</td>\n",
       "    </tr>\n",
       "    <tr>\n",
       "      <td>study</td>\n",
       "      <td>1.602911</td>\n",
       "      <td>0.014538</td>\n",
       "    </tr>\n",
       "  </tbody>\n",
       "</table>\n",
       "</div>"
      ],
      "text/plain": [
       "                    mean         se\n",
       "SemDis_MEAN     0.831974   0.001848\n",
       "ewm_MEAN        0.823751   0.002012\n",
       "mad_MEAN        0.823517   0.002005\n",
       "wad_MEAN        0.823444   0.002004\n",
       "wordcnt         1.001617   0.001143\n",
       "rater           1.373671   0.008570\n",
       "id           1157.855641  20.257956\n",
       "study           1.602911   0.014538"
      ]
     },
     "execution_count": 296,
     "metadata": {},
     "output_type": "execute_result"
    }
   ],
   "source": [
    "print(len(dfAll[dfAll['wordcntall']<2]),len(dfAll))\n",
    "pd.DataFrame({'mean':dfAll[dfAll['wordcntall']<2][allcols].mean(),\n",
    "              'se':dfAll[dfAll['wordcntall']<2][allcols].std()/np.sqrt(len(dfAll[dfAll['wordcntall']<2]))})"
   ]
  },
  {
   "cell_type": "code",
   "execution_count": 297,
   "metadata": {},
   "outputs": [
    {
     "name": "stdout",
     "output_type": "stream",
     "text": [
      "4624 7097\n"
     ]
    },
    {
     "data": {
      "text/html": [
       "<div>\n",
       "<style scoped>\n",
       "    .dataframe tbody tr th:only-of-type {\n",
       "        vertical-align: middle;\n",
       "    }\n",
       "\n",
       "    .dataframe tbody tr th {\n",
       "        vertical-align: top;\n",
       "    }\n",
       "\n",
       "    .dataframe thead th {\n",
       "        text-align: right;\n",
       "    }\n",
       "</style>\n",
       "<table border=\"1\" class=\"dataframe\">\n",
       "  <thead>\n",
       "    <tr style=\"text-align: right;\">\n",
       "      <th></th>\n",
       "      <th>mean</th>\n",
       "      <th>se</th>\n",
       "    </tr>\n",
       "  </thead>\n",
       "  <tbody>\n",
       "    <tr>\n",
       "      <td>SemDis_MEAN</td>\n",
       "      <td>0.984864</td>\n",
       "      <td>0.006146</td>\n",
       "    </tr>\n",
       "    <tr>\n",
       "      <td>ewm_MEAN</td>\n",
       "      <td>0.999302</td>\n",
       "      <td>0.005899</td>\n",
       "    </tr>\n",
       "    <tr>\n",
       "      <td>mad_MEAN</td>\n",
       "      <td>1.009909</td>\n",
       "      <td>0.005232</td>\n",
       "    </tr>\n",
       "    <tr>\n",
       "      <td>wad_MEAN</td>\n",
       "      <td>0.919830</td>\n",
       "      <td>0.005062</td>\n",
       "    </tr>\n",
       "    <tr>\n",
       "      <td>wordcnt</td>\n",
       "      <td>9.792453</td>\n",
       "      <td>0.458241</td>\n",
       "    </tr>\n",
       "    <tr>\n",
       "      <td>rater</td>\n",
       "      <td>2.464132</td>\n",
       "      <td>0.108257</td>\n",
       "    </tr>\n",
       "    <tr>\n",
       "      <td>id</td>\n",
       "      <td>341.849057</td>\n",
       "      <td>94.667190</td>\n",
       "    </tr>\n",
       "    <tr>\n",
       "      <td>study</td>\n",
       "      <td>2.301887</td>\n",
       "      <td>0.095565</td>\n",
       "    </tr>\n",
       "  </tbody>\n",
       "</table>\n",
       "</div>"
      ],
      "text/plain": [
       "                   mean         se\n",
       "SemDis_MEAN    0.984864   0.006146\n",
       "ewm_MEAN       0.999302   0.005899\n",
       "mad_MEAN       1.009909   0.005232\n",
       "wad_MEAN       0.919830   0.005062\n",
       "wordcnt        9.792453   0.458241\n",
       "rater          2.464132   0.108257\n",
       "id           341.849057  94.667190\n",
       "study          2.301887   0.095565"
      ]
     },
     "execution_count": 297,
     "metadata": {},
     "output_type": "execute_result"
    }
   ],
   "source": [
    "print(len(dfAll[dfAll['wordcntall']>=2]),len(dfAll))\n",
    "pd.DataFrame({'mean':dfAll[dfAll['wordcntall']>=22][allcols].mean(),\n",
    "              'se':dfAll[dfAll['wordcntall']>=22][allcols].std()/np.sqrt(len(dfAll[dfAll['wordcntall']>=22]))})"
   ]
  },
  {
   "cell_type": "code",
   "execution_count": 176,
   "metadata": {},
   "outputs": [
    {
     "name": "stdout",
     "output_type": "stream",
     "text": [
      "3360 7097\n"
     ]
    },
    {
     "data": {
      "text/html": [
       "<div>\n",
       "<style scoped>\n",
       "    .dataframe tbody tr th:only-of-type {\n",
       "        vertical-align: middle;\n",
       "    }\n",
       "\n",
       "    .dataframe tbody tr th {\n",
       "        vertical-align: top;\n",
       "    }\n",
       "\n",
       "    .dataframe thead th {\n",
       "        text-align: right;\n",
       "    }\n",
       "</style>\n",
       "<table border=\"1\" class=\"dataframe\">\n",
       "  <thead>\n",
       "    <tr style=\"text-align: right;\">\n",
       "      <th></th>\n",
       "      <th>mean</th>\n",
       "      <th>se</th>\n",
       "    </tr>\n",
       "  </thead>\n",
       "  <tbody>\n",
       "    <tr>\n",
       "      <td>SemDis_MEAN</td>\n",
       "      <td>0.860444</td>\n",
       "      <td>0.001815</td>\n",
       "    </tr>\n",
       "    <tr>\n",
       "      <td>ewm_MEAN</td>\n",
       "      <td>0.826222</td>\n",
       "      <td>0.001745</td>\n",
       "    </tr>\n",
       "    <tr>\n",
       "      <td>mad_MEAN</td>\n",
       "      <td>0.826222</td>\n",
       "      <td>0.001745</td>\n",
       "    </tr>\n",
       "    <tr>\n",
       "      <td>wad_MEAN</td>\n",
       "      <td>0.826222</td>\n",
       "      <td>0.001745</td>\n",
       "    </tr>\n",
       "    <tr>\n",
       "      <td>wordcnt</td>\n",
       "      <td>0.997321</td>\n",
       "      <td>0.000892</td>\n",
       "    </tr>\n",
       "    <tr>\n",
       "      <td>rater</td>\n",
       "      <td>1.375804</td>\n",
       "      <td>0.007242</td>\n",
       "    </tr>\n",
       "  </tbody>\n",
       "</table>\n",
       "</div>"
      ],
      "text/plain": [
       "                 mean        se\n",
       "SemDis_MEAN  0.860444  0.001815\n",
       "ewm_MEAN     0.826222  0.001745\n",
       "mad_MEAN     0.826222  0.001745\n",
       "wad_MEAN     0.826222  0.001745\n",
       "wordcnt      0.997321  0.000892\n",
       "rater        1.375804  0.007242"
      ]
     },
     "execution_count": 176,
     "metadata": {},
     "output_type": "execute_result"
    }
   ],
   "source": [
    "print(len(dfAll[dfAll['wordcnt']<2]),len(dfAll))\n",
    "pd.DataFrame({'mean':dfAll[dfAll['wordcnt']<2][allcols].mean(),\n",
    "              'se':dfAll[dfAll['wordcnt']<2][allcols].std()/np.sqrt(len(dfAll[dfAll['wordcnt']<2]))})"
   ]
  },
  {
   "cell_type": "code",
   "execution_count": 175,
   "metadata": {},
   "outputs": [
    {
     "data": {
      "text/html": [
       "<div>\n",
       "<style scoped>\n",
       "    .dataframe tbody tr th:only-of-type {\n",
       "        vertical-align: middle;\n",
       "    }\n",
       "\n",
       "    .dataframe tbody tr th {\n",
       "        vertical-align: top;\n",
       "    }\n",
       "\n",
       "    .dataframe thead th {\n",
       "        text-align: right;\n",
       "    }\n",
       "</style>\n",
       "<table border=\"1\" class=\"dataframe\">\n",
       "  <thead>\n",
       "    <tr style=\"text-align: right;\">\n",
       "      <th></th>\n",
       "      <th>mean</th>\n",
       "      <th>se</th>\n",
       "    </tr>\n",
       "  </thead>\n",
       "  <tbody>\n",
       "    <tr>\n",
       "      <td>SemDis_MEAN</td>\n",
       "      <td>0.993160</td>\n",
       "      <td>0.000830</td>\n",
       "    </tr>\n",
       "    <tr>\n",
       "      <td>ewm_MEAN</td>\n",
       "      <td>0.994668</td>\n",
       "      <td>0.000811</td>\n",
       "    </tr>\n",
       "    <tr>\n",
       "      <td>mad_MEAN</td>\n",
       "      <td>0.934169</td>\n",
       "      <td>0.001117</td>\n",
       "    </tr>\n",
       "    <tr>\n",
       "      <td>wad_MEAN</td>\n",
       "      <td>0.886764</td>\n",
       "      <td>0.001088</td>\n",
       "    </tr>\n",
       "    <tr>\n",
       "      <td>wordcnt</td>\n",
       "      <td>2.858175</td>\n",
       "      <td>0.025685</td>\n",
       "    </tr>\n",
       "    <tr>\n",
       "      <td>rater</td>\n",
       "      <td>1.790322</td>\n",
       "      <td>0.010981</td>\n",
       "    </tr>\n",
       "  </tbody>\n",
       "</table>\n",
       "</div>"
      ],
      "text/plain": [
       "                 mean        se\n",
       "SemDis_MEAN  0.993160  0.000830\n",
       "ewm_MEAN     0.994668  0.000811\n",
       "mad_MEAN     0.934169  0.001117\n",
       "wad_MEAN     0.886764  0.001088\n",
       "wordcnt      2.858175  0.025685\n",
       "rater        1.790322  0.010981"
      ]
     },
     "execution_count": 175,
     "metadata": {},
     "output_type": "execute_result"
    }
   ],
   "source": [
    "pd.DataFrame({'mean':dfAll[dfAll['wordcnt']>=2][allcols].mean(),\n",
    "              'se':dfAll[dfAll['wordcnt']>=2][allcols].std()/np.sqrt(len(dfAll[dfAll['wordcnt']>=2]))})"
   ]
  },
  {
   "cell_type": "code",
   "execution_count": 171,
   "metadata": {},
   "outputs": [
    {
     "data": {
      "text/html": [
       "<div>\n",
       "<style scoped>\n",
       "    .dataframe tbody tr th:only-of-type {\n",
       "        vertical-align: middle;\n",
       "    }\n",
       "\n",
       "    .dataframe tbody tr th {\n",
       "        vertical-align: top;\n",
       "    }\n",
       "\n",
       "    .dataframe thead th {\n",
       "        text-align: right;\n",
       "    }\n",
       "</style>\n",
       "<table border=\"1\" class=\"dataframe\">\n",
       "  <thead>\n",
       "    <tr style=\"text-align: right;\">\n",
       "      <th></th>\n",
       "      <th>rater</th>\n",
       "      <th>SemDis_MEAN</th>\n",
       "      <th>ewm_MEAN</th>\n",
       "      <th>mad_MEAN</th>\n",
       "      <th>wad_MEAN</th>\n",
       "    </tr>\n",
       "  </thead>\n",
       "  <tbody>\n",
       "    <tr>\n",
       "      <td>wordcnt</td>\n",
       "      <td>0.32***</td>\n",
       "      <td>-0.07***</td>\n",
       "      <td>-0.13***</td>\n",
       "      <td>0.39***</td>\n",
       "      <td>0.21***</td>\n",
       "    </tr>\n",
       "  </tbody>\n",
       "</table>\n",
       "</div>"
      ],
      "text/plain": [
       "           rater SemDis_MEAN  ewm_MEAN mad_MEAN wad_MEAN\n",
       "wordcnt  0.32***    -0.07***  -0.13***  0.39***  0.21***"
      ]
     },
     "metadata": {},
     "output_type": "display_data"
    }
   ],
   "source": [
    "utilities.printNiceCorrTable(dfAll[dfAll['wordcnt']>=2],['wordcnt'],['rater','SemDis_MEAN','ewm_MEAN','mad_MEAN','wad_MEAN'])"
   ]
  },
  {
   "cell_type": "code",
   "execution_count": 298,
   "metadata": {},
   "outputs": [
    {
     "data": {
      "text/html": [
       "<div>\n",
       "<style scoped>\n",
       "    .dataframe tbody tr th:only-of-type {\n",
       "        vertical-align: middle;\n",
       "    }\n",
       "\n",
       "    .dataframe tbody tr th {\n",
       "        vertical-align: top;\n",
       "    }\n",
       "\n",
       "    .dataframe thead th {\n",
       "        text-align: right;\n",
       "    }\n",
       "</style>\n",
       "<table border=\"1\" class=\"dataframe\">\n",
       "  <thead>\n",
       "    <tr style=\"text-align: right;\">\n",
       "      <th></th>\n",
       "      <th>rater</th>\n",
       "      <th>SemDis_MEAN</th>\n",
       "      <th>ewm_MEAN</th>\n",
       "      <th>mad_MEAN</th>\n",
       "      <th>wad_MEAN</th>\n",
       "    </tr>\n",
       "  </thead>\n",
       "  <tbody>\n",
       "    <tr>\n",
       "      <td>wordcntall</td>\n",
       "      <td>0.32***</td>\n",
       "      <td>0.03*</td>\n",
       "      <td>0.08***</td>\n",
       "      <td>0.33***</td>\n",
       "      <td>0.19***</td>\n",
       "    </tr>\n",
       "  </tbody>\n",
       "</table>\n",
       "</div>"
      ],
      "text/plain": [
       "              rater SemDis_MEAN ewm_MEAN mad_MEAN wad_MEAN\n",
       "wordcntall  0.32***       0.03*  0.08***  0.33***  0.19***"
      ]
     },
     "metadata": {},
     "output_type": "display_data"
    }
   ],
   "source": [
    "utilities.printNiceCorrTable(dfAll[dfAll['wordcntall']>=2],['wordcntall'],['rater','SemDis_MEAN','ewm_MEAN','mad_MEAN','wad_MEAN'])"
   ]
  },
  {
   "cell_type": "code",
   "execution_count": 199,
   "metadata": {},
   "outputs": [
    {
     "data": {
      "text/html": [
       "<div>\n",
       "<style scoped>\n",
       "    .dataframe tbody tr th:only-of-type {\n",
       "        vertical-align: middle;\n",
       "    }\n",
       "\n",
       "    .dataframe tbody tr th {\n",
       "        vertical-align: top;\n",
       "    }\n",
       "\n",
       "    .dataframe thead th {\n",
       "        text-align: right;\n",
       "    }\n",
       "</style>\n",
       "<table border=\"1\" class=\"dataframe\">\n",
       "  <thead>\n",
       "    <tr style=\"text-align: right;\">\n",
       "      <th></th>\n",
       "      <th>SemDis_MEAN</th>\n",
       "      <th>ewm_MEAN</th>\n",
       "      <th>mad_MEAN</th>\n",
       "      <th>wad_MEAN</th>\n",
       "    </tr>\n",
       "  </thead>\n",
       "  <tbody>\n",
       "    <tr>\n",
       "      <td>ewm_MEAN</td>\n",
       "      <td>0.44***</td>\n",
       "      <td></td>\n",
       "      <td></td>\n",
       "      <td></td>\n",
       "    </tr>\n",
       "    <tr>\n",
       "      <td>mad_MEAN</td>\n",
       "      <td>0.01</td>\n",
       "      <td>0.03*</td>\n",
       "      <td></td>\n",
       "      <td></td>\n",
       "    </tr>\n",
       "    <tr>\n",
       "      <td>wad_MEAN</td>\n",
       "      <td>0.05***</td>\n",
       "      <td>0.09***</td>\n",
       "      <td>0.91***</td>\n",
       "      <td></td>\n",
       "    </tr>\n",
       "    <tr>\n",
       "      <td>rater</td>\n",
       "      <td>-0.04**</td>\n",
       "      <td>-0.07***</td>\n",
       "      <td>0.25***</td>\n",
       "      <td>0.21***</td>\n",
       "    </tr>\n",
       "  </tbody>\n",
       "</table>\n",
       "</div>"
      ],
      "text/plain": [
       "         SemDis_MEAN  ewm_MEAN mad_MEAN wad_MEAN\n",
       "ewm_MEAN     0.44***                            \n",
       "mad_MEAN        0.01     0.03*                  \n",
       "wad_MEAN     0.05***   0.09***  0.91***         \n",
       "rater        -0.04**  -0.07***  0.25***  0.21***"
      ]
     },
     "metadata": {},
     "output_type": "display_data"
    }
   ],
   "source": [
    "utilities.printTriNiceCorrTable(dfAll[dfAll['wordcnt']>=2],['SemDis_MEAN','ewm_MEAN','mad_MEAN','wad_MEAN','rater'])"
   ]
  },
  {
   "cell_type": "code",
   "execution_count": 299,
   "metadata": {},
   "outputs": [
    {
     "data": {
      "text/html": [
       "<div>\n",
       "<style scoped>\n",
       "    .dataframe tbody tr th:only-of-type {\n",
       "        vertical-align: middle;\n",
       "    }\n",
       "\n",
       "    .dataframe tbody tr th {\n",
       "        vertical-align: top;\n",
       "    }\n",
       "\n",
       "    .dataframe thead th {\n",
       "        text-align: right;\n",
       "    }\n",
       "</style>\n",
       "<table border=\"1\" class=\"dataframe\">\n",
       "  <thead>\n",
       "    <tr style=\"text-align: right;\">\n",
       "      <th></th>\n",
       "      <th>SemDis_MEAN</th>\n",
       "      <th>ewm_MEAN</th>\n",
       "      <th>mad_MEAN</th>\n",
       "      <th>wad_MEAN</th>\n",
       "    </tr>\n",
       "  </thead>\n",
       "  <tbody>\n",
       "    <tr>\n",
       "      <td>ewm_MEAN</td>\n",
       "      <td>0.48***</td>\n",
       "      <td></td>\n",
       "      <td></td>\n",
       "      <td></td>\n",
       "    </tr>\n",
       "    <tr>\n",
       "      <td>mad_MEAN</td>\n",
       "      <td>0.26***</td>\n",
       "      <td>0.6***</td>\n",
       "      <td></td>\n",
       "      <td></td>\n",
       "    </tr>\n",
       "    <tr>\n",
       "      <td>wad_MEAN</td>\n",
       "      <td>0.24***</td>\n",
       "      <td>0.52***</td>\n",
       "      <td>0.93***</td>\n",
       "      <td></td>\n",
       "    </tr>\n",
       "    <tr>\n",
       "      <td>rater</td>\n",
       "      <td>0.06***</td>\n",
       "      <td>0.17***</td>\n",
       "      <td>0.31***</td>\n",
       "      <td>0.25***</td>\n",
       "    </tr>\n",
       "  </tbody>\n",
       "</table>\n",
       "</div>"
      ],
      "text/plain": [
       "         SemDis_MEAN ewm_MEAN mad_MEAN wad_MEAN\n",
       "ewm_MEAN     0.48***                           \n",
       "mad_MEAN     0.26***   0.6***                  \n",
       "wad_MEAN     0.24***  0.52***  0.93***         \n",
       "rater        0.06***  0.17***  0.31***  0.25***"
      ]
     },
     "metadata": {},
     "output_type": "display_data"
    }
   ],
   "source": [
    "utilities.printTriNiceCorrTable(dfAll[dfAll['wordcntall']>=2],['SemDis_MEAN','ewm_MEAN','mad_MEAN','wad_MEAN','rater'])"
   ]
  },
  {
   "cell_type": "markdown",
   "metadata": {},
   "source": [
    "# CRJ Study"
   ]
  },
  {
   "cell_type": "code",
   "execution_count": 244,
   "metadata": {},
   "outputs": [],
   "source": [
    "allcols=['SemDis_MEAN','ewm_MEAN','mad_MEAN','wad_MEAN','wordcnt','rater']"
   ]
  },
  {
   "cell_type": "code",
   "execution_count": 252,
   "metadata": {},
   "outputs": [
    {
     "data": {
      "text/plain": [
       "Index(['Unnamed: 0', 'id', 'rater1', 'rater2', 'rater3', 'rater4', 'response',\n",
       "       'response_nofill', 'item', 'item_nofill', 'SemDis_cbowu',\n",
       "       'SemDis_cbows', 'SemDis_cboww', 'SemDis_tasa', 'SemDis_glov',\n",
       "       'SemDis_MEAN', 'SemDis_factor', 'response_processed', 'wad_cbowu',\n",
       "       'ewm_cbowu', 'mad_cbowu', 'wad_cbows', 'ewm_cbows', 'mad_cbows',\n",
       "       'wad_glov', 'ewm_glov', 'mad_glov', 'wad_tasa', 'ewm_tasa', 'mad_tasa',\n",
       "       'wad_cboww', 'ewm_cboww', 'mad_cboww', 'rater'],\n",
       "      dtype='object')"
      ]
     },
     "execution_count": 252,
     "metadata": {},
     "output_type": "execute_result"
    }
   ],
   "source": [
    "#file = studytag+'_data_long.xlsx'\n",
    "#agg=pd.read_excel(sourceFolder+file,sheet_name=studytag+'_data_long')\n",
    "file = 'CRJ_study1_yy_long.csv'\n",
    "df=pd.read_csv(resultFolder+file,index_col=None)\n",
    "df.columns"
   ]
  },
  {
   "cell_type": "code",
   "execution_count": 253,
   "metadata": {},
   "outputs": [],
   "source": [
    "df[['SemDis_'+s for s in sdSpace]]=df[['SemDis_'+s for s in sdSpace]].applymap(lambda r:float(str(r).replace(',','.')))"
   ]
  },
  {
   "cell_type": "code",
   "execution_count": 254,
   "metadata": {},
   "outputs": [],
   "source": [
    "df['SemDis_MEAN']=df[['SemDis_'+s for s in sdSpace]].mean(axis=1)\n",
    "df['ewm_MEAN']=df[['ewm_'+s for s in sdSpace]].mean(axis=1)\n",
    "df['mad_MEAN']=df[['mad_'+s for s in sdSpace]].mean(axis=1)\n",
    "df['wad_MEAN']=df[['wad_'+s for s in sdSpace]].mean(axis=1)\n",
    "df['study']=1"
   ]
  },
  {
   "cell_type": "code",
   "execution_count": 255,
   "metadata": {},
   "outputs": [
    {
     "data": {
      "text/plain": [
       "count    1015.000000\n",
       "mean        1.496552\n",
       "std         0.692121\n",
       "min         0.000000\n",
       "25%         1.000000\n",
       "50%         1.000000\n",
       "75%         2.000000\n",
       "max         5.000000\n",
       "Name: wordcnt, dtype: float64"
      ]
     },
     "execution_count": 255,
     "metadata": {},
     "output_type": "execute_result"
    }
   ],
   "source": [
    "df['wordcnt']=df.apply(lambda r: len(ast.literal_eval(r['response_processed'])),axis=1)\n",
    "df['wordcnt'].describe()"
   ]
  },
  {
   "cell_type": "code",
   "execution_count": 256,
   "metadata": {},
   "outputs": [
    {
     "data": {
      "text/plain": [
       "Index(['Unnamed: 0', 'id', 'response', 'response_nofill', 'item',\n",
       "       'item_nofill', 'SemDis_cbowu', 'SemDis_cbows', 'SemDis_cboww',\n",
       "       'SemDis_tasa', 'SemDis_glov', 'SemDis_MEAN', 'SemDis_factor',\n",
       "       'response_processed', 'wad_cbowu', 'ewm_cbowu', 'mad_cbowu',\n",
       "       'wad_cbows', 'ewm_cbows', 'mad_cbows', 'wad_glov', 'ewm_glov',\n",
       "       'mad_glov', 'wad_tasa', 'ewm_tasa', 'mad_tasa', 'wad_cboww',\n",
       "       'ewm_cboww', 'mad_cboww', 'study'],\n",
       "      dtype='object')"
      ]
     },
     "execution_count": 256,
     "metadata": {},
     "output_type": "execute_result"
    }
   ],
   "source": [
    "#file = studytag+'_data_long.xlsx'\n",
    "#agg=pd.read_excel(sourceFolder+file,sheet_name=studytag+'_data_long')\n",
    "file = 'CRJ_study2_yy_long.csv'\n",
    "df2=pd.read_csv(resultFolder+file,index_col=None)\n",
    "df2['study']=2\n",
    "df2.columns"
   ]
  },
  {
   "cell_type": "code",
   "execution_count": 257,
   "metadata": {},
   "outputs": [
    {
     "name": "stderr",
     "output_type": "stream",
     "text": [
      "/Users/yyu/opt/anaconda3/lib/python3.7/site-packages/ipykernel_launcher.py:7: FutureWarning: Sorting because non-concatenation axis is not aligned. A future version\n",
      "of pandas will change to not sort by default.\n",
      "\n",
      "To accept the future behavior, pass 'sort=False'.\n",
      "\n",
      "To retain the current behavior and silence the warning, pass 'sort=True'.\n",
      "\n",
      "  import sys\n"
     ]
    },
    {
     "data": {
      "text/html": [
       "<div>\n",
       "<style scoped>\n",
       "    .dataframe tbody tr th:only-of-type {\n",
       "        vertical-align: middle;\n",
       "    }\n",
       "\n",
       "    .dataframe tbody tr th {\n",
       "        vertical-align: top;\n",
       "    }\n",
       "\n",
       "    .dataframe thead th {\n",
       "        text-align: right;\n",
       "    }\n",
       "</style>\n",
       "<table border=\"1\" class=\"dataframe\">\n",
       "  <thead>\n",
       "    <tr style=\"text-align: right;\">\n",
       "      <th></th>\n",
       "      <th></th>\n",
       "      <th></th>\n",
       "      <th>SemDis_MEAN</th>\n",
       "      <th>ewm_MEAN</th>\n",
       "      <th>mad_MEAN</th>\n",
       "      <th>rater</th>\n",
       "      <th>wad_MEAN</th>\n",
       "      <th>wordcnt</th>\n",
       "    </tr>\n",
       "    <tr>\n",
       "      <th>id</th>\n",
       "      <th>study</th>\n",
       "      <th>item</th>\n",
       "      <th></th>\n",
       "      <th></th>\n",
       "      <th></th>\n",
       "      <th></th>\n",
       "      <th></th>\n",
       "      <th></th>\n",
       "    </tr>\n",
       "  </thead>\n",
       "  <tbody>\n",
       "    <tr>\n",
       "      <td rowspan=\"5\" valign=\"top\">2000</td>\n",
       "      <td rowspan=\"5\" valign=\"top\">1</td>\n",
       "      <td>belt</td>\n",
       "      <td>1.017344</td>\n",
       "      <td>1.0148</td>\n",
       "      <td>0.9222</td>\n",
       "      <td>1.50</td>\n",
       "      <td>0.8956</td>\n",
       "      <td>2.0</td>\n",
       "    </tr>\n",
       "    <tr>\n",
       "      <td>bucket</td>\n",
       "      <td>0.733542</td>\n",
       "      <td>0.7122</td>\n",
       "      <td>0.7122</td>\n",
       "      <td>1.25</td>\n",
       "      <td>0.7122</td>\n",
       "      <td>1.0</td>\n",
       "    </tr>\n",
       "    <tr>\n",
       "      <td>clock</td>\n",
       "      <td>0.960116</td>\n",
       "      <td>0.9758</td>\n",
       "      <td>0.9030</td>\n",
       "      <td>1.75</td>\n",
       "      <td>0.8654</td>\n",
       "      <td>2.0</td>\n",
       "    </tr>\n",
       "    <tr>\n",
       "      <td>knife</td>\n",
       "      <td>0.999600</td>\n",
       "      <td>0.9820</td>\n",
       "      <td>0.9332</td>\n",
       "      <td>2.25</td>\n",
       "      <td>0.8988</td>\n",
       "      <td>2.0</td>\n",
       "    </tr>\n",
       "    <tr>\n",
       "      <td>lamp</td>\n",
       "      <td>0.837570</td>\n",
       "      <td>0.8286</td>\n",
       "      <td>0.8286</td>\n",
       "      <td>2.00</td>\n",
       "      <td>0.8286</td>\n",
       "      <td>1.0</td>\n",
       "    </tr>\n",
       "  </tbody>\n",
       "</table>\n",
       "</div>"
      ],
      "text/plain": [
       "                   SemDis_MEAN  ewm_MEAN  mad_MEAN  rater  wad_MEAN  wordcnt\n",
       "id   study item                                                             \n",
       "2000 1     belt       1.017344    1.0148    0.9222   1.50    0.8956      2.0\n",
       "           bucket     0.733542    0.7122    0.7122   1.25    0.7122      1.0\n",
       "           clock      0.960116    0.9758    0.9030   1.75    0.8654      2.0\n",
       "           knife      0.999600    0.9820    0.9332   2.25    0.8988      2.0\n",
       "           lamp       0.837570    0.8286    0.8286   2.00    0.8286      1.0"
      ]
     },
     "execution_count": 257,
     "metadata": {},
     "output_type": "execute_result"
    }
   ],
   "source": [
    "cols=['SemDis_MEAN','ewm_MEAN','mad_MEAN','wad_MEAN','wordcnt','id','study','item']\n",
    "df2['wordcnt']=df2.apply(lambda r: len(ast.literal_eval(r['response_processed'])),axis=1)\n",
    "df2['ewm_MEAN']=df2[['ewm_'+s for s in sdSpace]].mean(axis=1)\n",
    "df2['mad_MEAN']=df2[['mad_'+s for s in sdSpace]].mean(axis=1)\n",
    "df2['wad_MEAN']=df2[['wad_'+s for s in sdSpace]].mean(axis=1)\n",
    "\n",
    "tmp=pd.concat([df[cols+['rater']],df2[cols]])\n",
    "tmp=tmp.groupby(['id','study','item']).mean()\n",
    "tmp.head()\n",
    "#tmp=tmp.groupby(['id','study','item']).max()\n",
    "#tmp=tmp.groupby(level=[0,1]).mean()\n",
    "#tmp.to_csv(resultFolder+'CRJ_agg_meanmean.csv')\n",
    "#tmp.to_csv(resultFolder+'CRJ_agg_maxmean.csv')"
   ]
  },
  {
   "cell_type": "code",
   "execution_count": 259,
   "metadata": {},
   "outputs": [],
   "source": [
    "#tmp=tmp.groupby(['id','study','item']).max()\n",
    "tmp=tmp.groupby(level=[0,1]).mean()\n",
    "tmp.to_csv(resultFolder+'CRJ_agg_meanmean.csv')\n",
    "#tmp.to_csv(resultFolder+'CRJ_agg_maxmean.csv')"
   ]
  },
  {
   "cell_type": "code",
   "execution_count": 182,
   "metadata": {},
   "outputs": [
    {
     "data": {
      "text/html": [
       "<div>\n",
       "<style scoped>\n",
       "    .dataframe tbody tr th:only-of-type {\n",
       "        vertical-align: middle;\n",
       "    }\n",
       "\n",
       "    .dataframe tbody tr th {\n",
       "        vertical-align: top;\n",
       "    }\n",
       "\n",
       "    .dataframe thead th {\n",
       "        text-align: right;\n",
       "    }\n",
       "</style>\n",
       "<table border=\"1\" class=\"dataframe\">\n",
       "  <thead>\n",
       "    <tr style=\"text-align: right;\">\n",
       "      <th></th>\n",
       "      <th>rater</th>\n",
       "    </tr>\n",
       "  </thead>\n",
       "  <tbody>\n",
       "    <tr>\n",
       "      <td>wordcnt</td>\n",
       "      <td>0.47***</td>\n",
       "    </tr>\n",
       "  </tbody>\n",
       "</table>\n",
       "</div>"
      ],
      "text/plain": [
       "           rater\n",
       "wordcnt  0.47***"
      ]
     },
     "metadata": {},
     "output_type": "display_data"
    }
   ],
   "source": [
    "dfAll=df\n",
    "utilities.printNiceCorrTable(dfAll,['wordcnt'],['rater'])"
   ]
  },
  {
   "cell_type": "code",
   "execution_count": 141,
   "metadata": {},
   "outputs": [
    {
     "data": {
      "text/html": [
       "<div>\n",
       "<style scoped>\n",
       "    .dataframe tbody tr th:only-of-type {\n",
       "        vertical-align: middle;\n",
       "    }\n",
       "\n",
       "    .dataframe tbody tr th {\n",
       "        vertical-align: top;\n",
       "    }\n",
       "\n",
       "    .dataframe thead th {\n",
       "        text-align: right;\n",
       "    }\n",
       "</style>\n",
       "<table border=\"1\" class=\"dataframe\">\n",
       "  <thead>\n",
       "    <tr style=\"text-align: right;\">\n",
       "      <th></th>\n",
       "      <th>SemDis_MEAN</th>\n",
       "      <th>ewm_MEAN</th>\n",
       "      <th>mad_MEAN</th>\n",
       "      <th>wad_MEAN</th>\n",
       "    </tr>\n",
       "  </thead>\n",
       "  <tbody>\n",
       "    <tr>\n",
       "      <td>wordcnt</td>\n",
       "      <td>0.53***</td>\n",
       "      <td>0.6***</td>\n",
       "      <td>0.48***</td>\n",
       "      <td>0.28***</td>\n",
       "    </tr>\n",
       "  </tbody>\n",
       "</table>\n",
       "</div>"
      ],
      "text/plain": [
       "        SemDis_MEAN ewm_MEAN mad_MEAN wad_MEAN\n",
       "wordcnt     0.53***   0.6***  0.48***  0.28***"
      ]
     },
     "metadata": {},
     "output_type": "display_data"
    }
   ],
   "source": [
    "utilities.printNiceCorrTable(dfAll,['wordcnt'],['SemDis_MEAN','ewm_MEAN','mad_MEAN','wad_MEAN'])"
   ]
  },
  {
   "cell_type": "code",
   "execution_count": 142,
   "metadata": {},
   "outputs": [
    {
     "name": "stdout",
     "output_type": "stream",
     "text": [
      "(-1.9932289829176044, 0.046504511873405985)\n",
      "(-4.543570463082076, 6.198881621344299e-06)\n",
      "(-0.2921240756481407, 0.7702517526853252)\n",
      "(5.455218724355496, 6.151987719249519e-08)\n"
     ]
    }
   ],
   "source": [
    "for col in ['SemDis_MEAN','ewm_MEAN','mad_MEAN','wad_MEAN']:\n",
    "    print(utilities.testCorrDiff(dfAll,'wordcnt','rater',col))"
   ]
  },
  {
   "cell_type": "code",
   "execution_count": 143,
   "metadata": {},
   "outputs": [
    {
     "data": {
      "text/html": [
       "<div>\n",
       "<style scoped>\n",
       "    .dataframe tbody tr th:only-of-type {\n",
       "        vertical-align: middle;\n",
       "    }\n",
       "\n",
       "    .dataframe tbody tr th {\n",
       "        vertical-align: top;\n",
       "    }\n",
       "\n",
       "    .dataframe thead th {\n",
       "        text-align: right;\n",
       "    }\n",
       "</style>\n",
       "<table border=\"1\" class=\"dataframe\">\n",
       "  <thead>\n",
       "    <tr style=\"text-align: right;\">\n",
       "      <th></th>\n",
       "      <th>SemDis_MEAN</th>\n",
       "      <th>ewm_MEAN</th>\n",
       "      <th>mad_MEAN</th>\n",
       "      <th>wad_MEAN</th>\n",
       "    </tr>\n",
       "  </thead>\n",
       "  <tbody>\n",
       "    <tr>\n",
       "      <td>ewm_MEAN</td>\n",
       "      <td>0.84***</td>\n",
       "      <td></td>\n",
       "      <td></td>\n",
       "      <td></td>\n",
       "    </tr>\n",
       "    <tr>\n",
       "      <td>mad_MEAN</td>\n",
       "      <td>0.71***</td>\n",
       "      <td>0.85***</td>\n",
       "      <td></td>\n",
       "      <td></td>\n",
       "    </tr>\n",
       "    <tr>\n",
       "      <td>wad_MEAN</td>\n",
       "      <td>0.61***</td>\n",
       "      <td>0.73***</td>\n",
       "      <td>0.96***</td>\n",
       "      <td></td>\n",
       "    </tr>\n",
       "    <tr>\n",
       "      <td>rater</td>\n",
       "      <td>0.31***</td>\n",
       "      <td>0.37***</td>\n",
       "      <td>0.4***</td>\n",
       "      <td>0.35***</td>\n",
       "    </tr>\n",
       "  </tbody>\n",
       "</table>\n",
       "</div>"
      ],
      "text/plain": [
       "         SemDis_MEAN ewm_MEAN mad_MEAN wad_MEAN\n",
       "ewm_MEAN     0.84***                           \n",
       "mad_MEAN     0.71***  0.85***                  \n",
       "wad_MEAN     0.61***  0.73***  0.96***         \n",
       "rater        0.31***  0.37***   0.4***  0.35***"
      ]
     },
     "metadata": {},
     "output_type": "display_data"
    }
   ],
   "source": [
    "utilities.printTriNiceCorrTable(dfAll,['SemDis_MEAN','ewm_MEAN','mad_MEAN','wad_MEAN','rater'])"
   ]
  },
  {
   "cell_type": "code",
   "execution_count": 148,
   "metadata": {},
   "outputs": [
    {
     "data": {
      "text/plain": [
       "(2.8378146775508117, 0.0046332885436892735)"
      ]
     },
     "execution_count": 148,
     "metadata": {},
     "output_type": "execute_result"
    }
   ],
   "source": [
    "utilities.testCorrDiff(dfAll,'rater','mad_MEAN','SemDis_MEAN')"
   ]
  },
  {
   "cell_type": "code",
   "execution_count": 144,
   "metadata": {},
   "outputs": [
    {
     "data": {
      "text/plain": [
       "(1.7641272411035798, 0.07801281909301316)"
      ]
     },
     "execution_count": 144,
     "metadata": {},
     "output_type": "execute_result"
    }
   ],
   "source": [
    "utilities.testCorrDiff(dfAll,'rater','ewm_MEAN','SemDis_MEAN')"
   ]
  },
  {
   "cell_type": "code",
   "execution_count": 146,
   "metadata": {},
   "outputs": [
    {
     "data": {
      "text/plain": [
       "(1.120823623945607, 0.26262937302302536)"
      ]
     },
     "execution_count": 146,
     "metadata": {},
     "output_type": "execute_result"
    }
   ],
   "source": [
    "utilities.testCorrDiff(dfAll,'rater','mad_MEAN','ewm_MEAN')"
   ]
  },
  {
   "cell_type": "code",
   "execution_count": 145,
   "metadata": {},
   "outputs": [
    {
     "data": {
      "text/plain": [
       "(-1.5991273905319279, 0.11010505365460221)"
      ]
     },
     "execution_count": 145,
     "metadata": {},
     "output_type": "execute_result"
    }
   ],
   "source": [
    "utilities.testCorrDiff(dfAll,'rater','wad_MEAN','mad_MEAN')"
   ]
  },
  {
   "cell_type": "code",
   "execution_count": 149,
   "metadata": {},
   "outputs": [
    {
     "data": {
      "text/plain": [
       "(15.0, 0.0)"
      ]
     },
     "execution_count": 149,
     "metadata": {},
     "output_type": "execute_result"
    },
    {
     "data": {
      "image/png": "[encoded data removed]",
      "text/plain": [
       "<Figure size 792x648 with 2 Axes>"
      ]
     },
     "metadata": {},
     "output_type": "display_data"
    }
   ],
   "source": [
    "sdCols=['SemDis_'+s for s in sdSpace]\n",
    "ewmCols = ['ewm_'+s for s in sdSpace]\n",
    "madCols = ['mad_'+s for s in sdSpace]\n",
    "wadCols = ['wad_'+s for s in sdSpace]\n",
    "\n",
    "\n",
    "sns.set(font_scale=1.5) \n",
    "sns.set_style(\"whitegrid\")\n",
    "corrdf=dfAll[sdCols+ewmCols+madCols].corr()\n",
    "\n",
    "#corrdf=df[ewmCols+madCols+wadCols].corr()\n",
    "mask = np.triu(np.ones_like(corrdf, dtype=bool))\n",
    "\n",
    "# Set up the matplotlib figure\n",
    "f, ax = plt.subplots(figsize=(11, 9))\n",
    "\n",
    "# Generate a custom diverging colormap\n",
    "cmap = sns.diverging_palette(230, 304, s=80,sep=20,center='light',as_cmap=True)\n",
    "\n",
    "# Draw the heatmap with the mask and correct aspect ratio\n",
    "sns.heatmap(corrdf, mask=mask, cmap='Greens',center=.6,vmax=.9,\n",
    "            square=True, linewidths=.5,cbar_kws={\"shrink\": .5})\n",
    "plt.xticks(rotation=45,horizontalalignment='right')\n",
    "b, t = plt.ylim() # discover the values for bottom and top\n",
    "b += 0.5 # Add 0.5 to the bottom\n",
    "t -= 0.5 # Subtract 0.5 from the top\n",
    "plt.ylim(b, t) # update the ylim(bottom, top) values"
   ]
  },
  {
   "cell_type": "code",
   "execution_count": 183,
   "metadata": {},
   "outputs": [
    {
     "name": "stdout",
     "output_type": "stream",
     "text": [
      "601 1015\n"
     ]
    },
    {
     "data": {
      "text/html": [
       "<div>\n",
       "<style scoped>\n",
       "    .dataframe tbody tr th:only-of-type {\n",
       "        vertical-align: middle;\n",
       "    }\n",
       "\n",
       "    .dataframe tbody tr th {\n",
       "        vertical-align: top;\n",
       "    }\n",
       "\n",
       "    .dataframe thead th {\n",
       "        text-align: right;\n",
       "    }\n",
       "</style>\n",
       "<table border=\"1\" class=\"dataframe\">\n",
       "  <thead>\n",
       "    <tr style=\"text-align: right;\">\n",
       "      <th></th>\n",
       "      <th>mean</th>\n",
       "      <th>se</th>\n",
       "    </tr>\n",
       "  </thead>\n",
       "  <tbody>\n",
       "    <tr>\n",
       "      <td>SemDis_MEAN</td>\n",
       "      <td>0.851548</td>\n",
       "      <td>0.004281</td>\n",
       "    </tr>\n",
       "    <tr>\n",
       "      <td>ewm_MEAN</td>\n",
       "      <td>0.821553</td>\n",
       "      <td>0.003947</td>\n",
       "    </tr>\n",
       "    <tr>\n",
       "      <td>mad_MEAN</td>\n",
       "      <td>0.821553</td>\n",
       "      <td>0.003947</td>\n",
       "    </tr>\n",
       "    <tr>\n",
       "      <td>wad_MEAN</td>\n",
       "      <td>0.821553</td>\n",
       "      <td>0.003947</td>\n",
       "    </tr>\n",
       "    <tr>\n",
       "      <td>wordcnt</td>\n",
       "      <td>0.996672</td>\n",
       "      <td>0.002351</td>\n",
       "    </tr>\n",
       "    <tr>\n",
       "      <td>rater</td>\n",
       "      <td>1.601082</td>\n",
       "      <td>0.020568</td>\n",
       "    </tr>\n",
       "  </tbody>\n",
       "</table>\n",
       "</div>"
      ],
      "text/plain": [
       "                 mean        se\n",
       "SemDis_MEAN  0.851548  0.004281\n",
       "ewm_MEAN     0.821553  0.003947\n",
       "mad_MEAN     0.821553  0.003947\n",
       "wad_MEAN     0.821553  0.003947\n",
       "wordcnt      0.996672  0.002351\n",
       "rater        1.601082  0.020568"
      ]
     },
     "execution_count": 183,
     "metadata": {},
     "output_type": "execute_result"
    }
   ],
   "source": [
    "print(len(dfAll[dfAll['wordcnt']<2]),len(dfAll))\n",
    "pd.DataFrame({'mean':dfAll[dfAll['wordcnt']<2][allcols].mean(),\n",
    "              'se':dfAll[dfAll['wordcnt']<2][allcols].std()/np.sqrt(len(dfAll[dfAll['wordcnt']<2]))})"
   ]
  },
  {
   "cell_type": "code",
   "execution_count": 185,
   "metadata": {},
   "outputs": [
    {
     "data": {
      "text/html": [
       "<div>\n",
       "<style scoped>\n",
       "    .dataframe tbody tr th:only-of-type {\n",
       "        vertical-align: middle;\n",
       "    }\n",
       "\n",
       "    .dataframe tbody tr th {\n",
       "        vertical-align: top;\n",
       "    }\n",
       "\n",
       "    .dataframe thead th {\n",
       "        text-align: right;\n",
       "    }\n",
       "</style>\n",
       "<table border=\"1\" class=\"dataframe\">\n",
       "  <thead>\n",
       "    <tr style=\"text-align: right;\">\n",
       "      <th></th>\n",
       "      <th>rater</th>\n",
       "      <th>SemDis_MEAN</th>\n",
       "      <th>ewm_MEAN</th>\n",
       "      <th>mad_MEAN</th>\n",
       "      <th>wad_MEAN</th>\n",
       "    </tr>\n",
       "  </thead>\n",
       "  <tbody>\n",
       "    <tr>\n",
       "      <td>wordcnt</td>\n",
       "      <td>0.36***</td>\n",
       "      <td>-0.24***</td>\n",
       "      <td>-0.37***</td>\n",
       "      <td>0.26***</td>\n",
       "      <td>0.15***</td>\n",
       "    </tr>\n",
       "  </tbody>\n",
       "</table>\n",
       "</div>"
      ],
      "text/plain": [
       "           rater SemDis_MEAN  ewm_MEAN mad_MEAN wad_MEAN\n",
       "wordcnt  0.36***    -0.24***  -0.37***  0.26***  0.15***"
      ]
     },
     "metadata": {},
     "output_type": "display_data"
    }
   ],
   "source": [
    "utilities.printNiceCorrTable(dfAll[dfAll['wordcnt']>=2],['wordcnt'],['rater','SemDis_MEAN','ewm_MEAN','mad_MEAN','wad_MEAN'])"
   ]
  },
  {
   "cell_type": "code",
   "execution_count": 186,
   "metadata": {},
   "outputs": [
    {
     "data": {
      "text/html": [
       "<div>\n",
       "<style scoped>\n",
       "    .dataframe tbody tr th:only-of-type {\n",
       "        vertical-align: middle;\n",
       "    }\n",
       "\n",
       "    .dataframe tbody tr th {\n",
       "        vertical-align: top;\n",
       "    }\n",
       "\n",
       "    .dataframe thead th {\n",
       "        text-align: right;\n",
       "    }\n",
       "</style>\n",
       "<table border=\"1\" class=\"dataframe\">\n",
       "  <thead>\n",
       "    <tr style=\"text-align: right;\">\n",
       "      <th></th>\n",
       "      <th>SemDis_MEAN</th>\n",
       "      <th>ewm_MEAN</th>\n",
       "      <th>mad_MEAN</th>\n",
       "      <th>wad_MEAN</th>\n",
       "    </tr>\n",
       "  </thead>\n",
       "  <tbody>\n",
       "    <tr>\n",
       "      <td>ewm_MEAN</td>\n",
       "      <td>0.64***</td>\n",
       "      <td></td>\n",
       "      <td></td>\n",
       "      <td></td>\n",
       "    </tr>\n",
       "    <tr>\n",
       "      <td>mad_MEAN</td>\n",
       "      <td>-0.02</td>\n",
       "      <td>-0.01</td>\n",
       "      <td></td>\n",
       "      <td></td>\n",
       "    </tr>\n",
       "    <tr>\n",
       "      <td>wad_MEAN</td>\n",
       "      <td>-0.02</td>\n",
       "      <td>-0.01</td>\n",
       "      <td>0.91***</td>\n",
       "      <td></td>\n",
       "    </tr>\n",
       "    <tr>\n",
       "      <td>rater</td>\n",
       "      <td>-0.06</td>\n",
       "      <td>-0.19***</td>\n",
       "      <td>0.27***</td>\n",
       "      <td>0.29***</td>\n",
       "    </tr>\n",
       "  </tbody>\n",
       "</table>\n",
       "</div>"
      ],
      "text/plain": [
       "         SemDis_MEAN  ewm_MEAN mad_MEAN wad_MEAN\n",
       "ewm_MEAN     0.64***                            \n",
       "mad_MEAN       -0.02     -0.01                  \n",
       "wad_MEAN       -0.02     -0.01  0.91***         \n",
       "rater          -0.06  -0.19***  0.27***  0.29***"
      ]
     },
     "metadata": {},
     "output_type": "display_data"
    }
   ],
   "source": [
    "utilities.printTriNiceCorrTable(dfAll[dfAll['wordcnt']>=2],['SemDis_MEAN','ewm_MEAN','mad_MEAN','wad_MEAN','rater'])"
   ]
  },
  {
   "cell_type": "markdown",
   "metadata": {},
   "source": [
    "# Coat"
   ]
  },
  {
   "cell_type": "code",
   "execution_count": 17,
   "metadata": {},
   "outputs": [
    {
     "data": {
      "text/plain": [
       "Index(['Unnamed: 0', 'id', 'novelty_1', 'novelty_2', 'response',\n",
       "       'response_nofill', 'item', 'item_nofill', 'SemDis_cbowu',\n",
       "       'SemDis_cbows', 'SemDis_cboww', 'SemDis_tasa', 'SemDis_glov',\n",
       "       'SemDis_MEAN', 'SemDis_factor', 'rater', 'response_processed',\n",
       "       'ewm_cbowu', 'mad_cbowu', 'ewm_cbows', 'mad_cbows', 'ewm_glov',\n",
       "       'mad_glov', 'ewm_tasa', 'mad_tasa', 'ewm_cboww', 'mad_cboww',\n",
       "       'ewm_MEAN', 'mad_MEAN', 'wad_cbowu', 'wad_cbows', 'wad_glov',\n",
       "       'wad_tasa', 'wad_cboww', 'wad_MEAN'],\n",
       "      dtype='object')"
      ]
     },
     "execution_count": 17,
     "metadata": {},
     "output_type": "execute_result"
    }
   ],
   "source": [
    "studytag='s1'\n",
    "file ='/Users/yyu/Box Sync/ORG-SCHOOL-WCAS-PSYCHOLOGY-BEEMAN-LAB/COAT/scoring/SemDisData/algos/COAT_novelty_long_wad.csv'\n",
    "agg=pd.read_csv(file,index_col=None)\n",
    "agg.columns"
   ]
  },
  {
   "cell_type": "code",
   "execution_count": 19,
   "metadata": {},
   "outputs": [
    {
     "data": {
      "text/plain": [
       "count    3403.000000\n",
       "mean        1.601528\n",
       "std         0.782614\n",
       "min         0.000000\n",
       "25%         1.000000\n",
       "50%         1.000000\n",
       "75%         2.000000\n",
       "max         6.000000\n",
       "Name: wordcnt, dtype: float64"
      ]
     },
     "execution_count": 19,
     "metadata": {},
     "output_type": "execute_result"
    }
   ],
   "source": [
    "agg['wordcnt']=agg.apply(lambda r: len(ast.literal_eval(r['response_processed'])),axis=1)\n",
    "agg['wordcnt'].describe()"
   ]
  },
  {
   "cell_type": "code",
   "execution_count": 20,
   "metadata": {},
   "outputs": [
    {
     "data": {
      "text/html": [
       "<div>\n",
       "<style scoped>\n",
       "    .dataframe tbody tr th:only-of-type {\n",
       "        vertical-align: middle;\n",
       "    }\n",
       "\n",
       "    .dataframe tbody tr th {\n",
       "        vertical-align: top;\n",
       "    }\n",
       "\n",
       "    .dataframe thead th {\n",
       "        text-align: right;\n",
       "    }\n",
       "</style>\n",
       "<table border=\"1\" class=\"dataframe\">\n",
       "  <thead>\n",
       "    <tr style=\"text-align: right;\">\n",
       "      <th></th>\n",
       "      <th>rater</th>\n",
       "    </tr>\n",
       "  </thead>\n",
       "  <tbody>\n",
       "    <tr>\n",
       "      <td>wordcnt</td>\n",
       "      <td>0.18***</td>\n",
       "    </tr>\n",
       "  </tbody>\n",
       "</table>\n",
       "</div>"
      ],
      "text/plain": [
       "           rater\n",
       "wordcnt  0.18***"
      ]
     },
     "metadata": {},
     "output_type": "display_data"
    }
   ],
   "source": [
    "utilities.printNiceCorrTable(agg,['wordcnt'],['rater'])"
   ]
  },
  {
   "cell_type": "code",
   "execution_count": 21,
   "metadata": {},
   "outputs": [
    {
     "data": {
      "text/html": [
       "<div>\n",
       "<style scoped>\n",
       "    .dataframe tbody tr th:only-of-type {\n",
       "        vertical-align: middle;\n",
       "    }\n",
       "\n",
       "    .dataframe tbody tr th {\n",
       "        vertical-align: top;\n",
       "    }\n",
       "\n",
       "    .dataframe thead th {\n",
       "        text-align: right;\n",
       "    }\n",
       "</style>\n",
       "<table border=\"1\" class=\"dataframe\">\n",
       "  <thead>\n",
       "    <tr style=\"text-align: right;\">\n",
       "      <th></th>\n",
       "      <th>SemDis_MEAN</th>\n",
       "      <th>ewm_MEAN</th>\n",
       "      <th>mad_MEAN</th>\n",
       "      <th>wad_MEAN</th>\n",
       "    </tr>\n",
       "  </thead>\n",
       "  <tbody>\n",
       "    <tr>\n",
       "      <td>wordcnt</td>\n",
       "      <td>0.34***</td>\n",
       "      <td>0.53***</td>\n",
       "      <td>0.45***</td>\n",
       "      <td>0.3***</td>\n",
       "    </tr>\n",
       "  </tbody>\n",
       "</table>\n",
       "</div>"
      ],
      "text/plain": [
       "        SemDis_MEAN ewm_MEAN mad_MEAN wad_MEAN\n",
       "wordcnt     0.34***  0.53***  0.45***   0.3***"
      ]
     },
     "metadata": {},
     "output_type": "display_data"
    }
   ],
   "source": [
    "utilities.printNiceCorrTable(agg,['wordcnt'],['SemDis_MEAN','ewm_MEAN','mad_MEAN','wad_MEAN'])"
   ]
  },
  {
   "cell_type": "code",
   "execution_count": 12,
   "metadata": {},
   "outputs": [],
   "source": [
    "sdSpace=['cbowu','cboww','cbows','glov','tasa']"
   ]
  },
  {
   "cell_type": "code",
   "execution_count": 24,
   "metadata": {},
   "outputs": [
    {
     "name": "stdout",
     "output_type": "stream",
     "text": [
      "(-8.281223031748727, 2.220446049250313e-16)\n",
      "(-19.481325452526683, 0.0)\n",
      "(-15.21813360885695, 0.0)\n",
      "(-6.746564308356796, 1.773292623852285e-11)\n"
     ]
    }
   ],
   "source": [
    "for col in ['SemDis_MEAN','ewm_MEAN','mad_MEAN','wad_MEAN']:\n",
    "    print(utilities.testCorrDiff(agg,'wordcnt','rater',col))"
   ]
  },
  {
   "cell_type": "code",
   "execution_count": 26,
   "metadata": {},
   "outputs": [
    {
     "name": "stdout",
     "output_type": "stream",
     "text": [
      "(4.549257448129968, 5.5724131566847745e-06)\n",
      "(13.215347695454147, 0.0)\n"
     ]
    }
   ],
   "source": [
    "for col in ['mad_MEAN','wad_MEAN']:\n",
    "    print(utilities.testCorrDiff(agg,'wordcnt','ewm_MEAN',col))"
   ]
  },
  {
   "cell_type": "code",
   "execution_count": null,
   "metadata": {},
   "outputs": [],
   "source": []
  }
 ],
 "metadata": {
  "kernelspec": {
   "display_name": "Python 3",
   "language": "python",
   "name": "python3"
  },
  "language_info": {
   "codemirror_mode": {
    "name": "ipython",
    "version": 3
   },
   "file_extension": ".py",
   "mimetype": "text/x-python",
   "name": "python",
   "nbconvert_exporter": "python",
   "pygments_lexer": "ipython3",
   "version": "3.7.4"
  }
 },
 "nbformat": 4,
 "nbformat_minor": 2
}
