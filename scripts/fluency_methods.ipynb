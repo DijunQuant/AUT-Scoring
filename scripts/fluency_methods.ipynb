{
 "cells": [
  {
   "cell_type": "markdown",
   "metadata": {},
   "source": [
    "# Fluency Methods"
   ]
  },
  {
   "cell_type": "markdown",
   "metadata": {},
   "source": [
    "## Algorithm to Automate Fluency Scoring"
   ]
  },
  {
   "cell_type": "markdown",
   "metadata": {},
   "source": [
    "### Import Packages"
   ]
  },
  {
   "cell_type": "code",
   "execution_count": 1,
   "metadata": {},
   "outputs": [],
   "source": [
    "import nltk\n",
    "import pandas as pd\n",
    "import numpy as np\n",
    "from nltk.tokenize import sent_tokenize, word_tokenize\n",
    "import re\n",
    "\n",
    "from nltk.stem import WordNetLemmatizer\n",
    "import string\n",
    "\n",
    "import shared_functions as sf\n",
    "from shared_functions import *"
   ]
  },
  {
   "cell_type": "code",
   "execution_count": null,
   "metadata": {},
   "outputs": [],
   "source": []
  },
  {
   "cell_type": "markdown",
   "metadata": {},
   "source": [
    "## Fluency Algo \n",
    "### counting rows belonging to a participant"
   ]
  },
  {
   "cell_type": "code",
   "execution_count": 2,
   "metadata": {},
   "outputs": [],
   "source": [
    "# get fluency scores\n",
    "def get_fluency_score(fluency_rating_df):\n",
    "    # get id list\n",
    "    id_list = sf.get_id_list(fluency_rating_df)\n",
    "    # create fluency dictionary\n",
    "    participants_fluency = {k: 0 for k in id_list}\n",
    "    \n",
    "    # calculate fluency for each participant\n",
    "    # store fluency in dictionary\n",
    "    for participant in id_list:\n",
    "        temp_df = fluency_rating_df.loc[fluency_rating_df['id'] == participant]\n",
    "        participants_fluency[participant] = len(temp_df.index)\n",
    "        \n",
    "    # create fluency df\n",
    "    fluency_score_df = pd.DataFrame(participants_fluency.items(), columns=['id', 'fluency'])\n",
    "    \n",
    "    # return fluency df\n",
    "    return fluency_score_df"
   ]
  },
  {
   "cell_type": "code",
   "execution_count": 3,
   "metadata": {},
   "outputs": [],
   "source": [
    "# return fluency df\n",
    "def get_fluency(df, stopwords_list, join_list):\n",
    "    fluency_rating_df = sf.get_cleaned_responses_df(df, stopwords_list, join_list)\n",
    "                \n",
    "    # get fluency df\n",
    "    fluency_score_df = get_fluency_score(fluency_rating_df)\n",
    "        \n",
    "    return fluency_score_df"
   ]
  },
  {
   "cell_type": "code",
   "execution_count": null,
   "metadata": {},
   "outputs": [],
   "source": []
  },
  {
   "cell_type": "markdown",
   "metadata": {},
   "source": [
    "## Collect the Method Results"
   ]
  },
  {
   "cell_type": "code",
   "execution_count": 4,
   "metadata": {},
   "outputs": [],
   "source": [
    "def save_fluency_scores(data_dict):\n",
    "    # store the fluency result dataframes for all prompts\n",
    "    fluency_results_list = []\n",
    "    # get list of prompts from the data_dict\n",
    "    data_keys = list(data_dict.keys())\n",
    "    # iterate through the results list, appending the corresponding fluency table\n",
    "    for data in data_keys:\n",
    "        fluency_results_list.append(get_fluency(data_dict[data], sf.stopwords_edited, True))\n",
    "        \n",
    "    # return list of fluency df results\n",
    "    return fluency_results_list"
   ]
  },
  {
   "cell_type": "code",
   "execution_count": null,
   "metadata": {},
   "outputs": [],
   "source": []
  },
  {
   "cell_type": "markdown",
   "metadata": {},
   "source": [
    "## Write Fluency Results to CSVs"
   ]
  },
  {
   "cell_type": "code",
   "execution_count": 5,
   "metadata": {},
   "outputs": [],
   "source": [
    "underscore = \"_\""
   ]
  },
  {
   "cell_type": "code",
   "execution_count": 6,
   "metadata": {},
   "outputs": [],
   "source": [
    "# write out the flexibility results into csvs\n",
    "def write_fluency_results(data_dict, flex_results_list, date):\n",
    "    # get list of prompts from the data_dict\n",
    "    data_keys = list(data_dict.keys())\n",
    "    # iterate through the results list, write out the corresponding freqs table\n",
    "    for i in range(len(data_keys)):\n",
    "        flex_results_list[i].to_csv(\"fluency_results_\" + date + underscore + data_keys[i] + \".csv\", encoding = 'utf-8', index=False)"
   ]
  },
  {
   "cell_type": "code",
   "execution_count": null,
   "metadata": {},
   "outputs": [],
   "source": []
  }
 ],
 "metadata": {
  "interpreter": {
   "hash": "f4fb9038e648b520597eaf423817a5ee4bf2adb29cdca822101c12482799b056"
  },
  "kernelspec": {
   "display_name": "Python 3",
   "language": "python",
   "name": "python3"
  },
  "language_info": {
   "codemirror_mode": {
    "name": "ipython",
    "version": 3
   },
   "file_extension": ".py",
   "mimetype": "text/x-python",
   "name": "python",
   "nbconvert_exporter": "python",
   "pygments_lexer": "ipython3",
   "version": "3.9.5"
  }
 },
 "nbformat": 4,
 "nbformat_minor": 2
}
